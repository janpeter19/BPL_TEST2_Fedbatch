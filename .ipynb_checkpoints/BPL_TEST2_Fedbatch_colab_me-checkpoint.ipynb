{
 "cells": [
  {
   "cell_type": "markdown",
   "metadata": {
    "colab_type": "text",
    "id": "view-in-github"
   },
   "source": [
    "<a href=\"https://colab.research.google.com/github/janpeter19/BPL_TEST2_Fedbatch/blob/main/BPL_TEST2_Fedbatch_colab_me.ipynb\" target=\"_parent\"><img src=\"https://colab.research.google.com/assets/colab-badge.svg\" alt=\"Open In Colab\"/></a>"
   ]
  },
  {
   "cell_type": "markdown",
   "metadata": {
    "id": "UFcMzs4Y3HwH"
   },
   "source": [
    "# BPL_TEST2_Fedbatch script with PyFMI ver 2.9.8\n",
    "\n",
    "The key library PyFMI ver 2.9.8 is installed. \n",
    "\n",
    "After the installation a small application BPL_CHO_Fedbatch is loaded and run. You can continue with this example if you like."
   ]
  },
  {
   "cell_type": "code",
   "execution_count": null,
   "metadata": {
    "colab": {
     "base_uri": "https://localhost:8080/"
    },
    "id": "ID68dwep2zus",
    "outputId": "8cfb9bc8-4530-4822-89b7-c90e5bc4971f"
   },
   "outputs": [
    {
     "name": "stdout",
     "output_type": "stream",
     "text": [
      "No LSB modules are available.\n",
      "Distributor ID:\tUbuntu\n",
      "Description:\tUbuntu 20.04.5 LTS\n",
      "Release:\t20.04\n",
      "Codename:\tfocal\n"
     ]
    }
   ],
   "source": [
    "!lsb_release -a # Actual VM Ubuntu version used by Google"
   ]
  },
  {
   "cell_type": "code",
   "execution_count": null,
   "metadata": {
    "colab": {
     "base_uri": "https://localhost:8080/"
    },
    "id": "pVDcSg-j3SSV",
    "outputId": "754a30b2-6e7a-494f-bb68-952f2ac49586"
   },
   "outputs": [
    {
     "name": "stdout",
     "output_type": "stream",
     "text": [
      "env: PYTHONPATH=\n"
     ]
    }
   ],
   "source": [
    "%env PYTHONPATH="
   ]
  },
  {
   "cell_type": "code",
   "execution_count": null,
   "metadata": {
    "colab": {
     "base_uri": "https://localhost:8080/"
    },
    "id": "04VeBmLU3UFx",
    "outputId": "ef609bc6-7ea9-4b5c-aa69-0e3112c7aec5"
   },
   "outputs": [
    {
     "name": "stdout",
     "output_type": "stream",
     "text": [
      "--2023-01-21 09:07:33--  https://repo.anaconda.com/miniconda/Miniconda3-py38_22.11.1-1-Linux-x86_64.sh\n",
      "Resolving repo.anaconda.com (repo.anaconda.com)... 104.16.131.3, 104.16.130.3, 2606:4700::6810:8203, ...\n",
      "Connecting to repo.anaconda.com (repo.anaconda.com)|104.16.131.3|:443... connected.\n",
      "HTTP request sent, awaiting response... 200 OK\n",
      "Length: 64630241 (62M) [application/x-sh]\n",
      "Saving to: ‘Miniconda3-py38_22.11.1-1-Linux-x86_64.sh’\n",
      "\n",
      "Miniconda3-py38_22. 100%[===================>]  61.64M   138MB/s    in 0.4s    \n",
      "\n",
      "2023-01-21 09:07:33 (138 MB/s) - ‘Miniconda3-py38_22.11.1-1-Linux-x86_64.sh’ saved [64630241/64630241]\n",
      "\n",
      "PREFIX=/usr/local\n",
      "Unpacking payload ...\n",
      "                                                                                      \n",
      "Installing base environment...\n",
      "\n",
      "\n",
      "Downloading and Extracting Packages\n",
      "\n",
      "\n",
      "Downloading and Extracting Packages\n",
      "\n",
      "Preparing transaction: - \b\bdone\n",
      "Executing transaction: | \b\b/ \b\b- \b\b\\ \b\bdone\n",
      "installation finished.\n"
     ]
    }
   ],
   "source": [
    "!wget https://repo.anaconda.com/miniconda/Miniconda3-py38_22.11.1-1-Linux-x86_64.sh \n",
    "!chmod +x Miniconda3-py38_22.11.1-1-Linux-x86_64.sh\n",
    "!bash ./Miniconda3-py38_22.11.1-1-Linux-x86_64.sh -b -f -p /usr/local \n",
    "import sys \n",
    "sys.path.append('/usr/local/lib/python3.8/site-packages/')"
   ]
  },
  {
   "cell_type": "code",
   "execution_count": null,
   "metadata": {
    "colab": {
     "base_uri": "https://localhost:8080/"
    },
    "id": "5iuP4_vl3WFA",
    "outputId": "2023dff9-b15c-4e0e-ccab-1595d636d677"
   },
   "outputs": [
    {
     "name": "stdout",
     "output_type": "stream",
     "text": [
      "Collecting package metadata (current_repodata.json): - \b\b\\ \b\b| \b\b/ \b\b- \b\b\\ \b\b| \b\b/ \b\bdone\n",
      "Solving environment: \\ \b\b| \b\b/ \b\b- \b\b\\ \b\b| \b\b/ \b\b- \b\b\\ \b\b| \b\b/ \b\b- \b\b\\ \b\b| \b\b/ \b\b- \b\b\\ \b\b| \n",
      "The environment is inconsistent, please check the package plan carefully\n",
      "The following packages are causing the inconsistency:\n",
      "\n",
      "  - conda-forge/linux-64::tbb==2021.7.0=h924138e_1\n",
      "  - conda-forge/linux-64::numpy==1.24.1=py38hab0fcb9_0\n",
      "  - conda-forge/linux-64::suitesparse==5.10.1=h9e50725_1\n",
      "  - conda-forge/linux-64::scipy==1.10.0=py38h10c12cc_0\n",
      "  - conda-forge/linux-64::libcblas==3.9.0=16_linux64_openblas\n",
      "  - conda-forge/linux-64::libopenblas==0.3.21=pthreads_h78a6416_3\n",
      "  - conda-forge/linux-64::pyfmi==2.9.8=py38h26c90d9_1\n",
      "  - conda-forge/linux-64::assimulo==3.3=py38h71f17ff_1\n",
      "  - conda-forge/linux-64::libblas==3.9.0=16_linux64_openblas\n",
      "  - conda-forge/linux-64::liblapack==3.9.0=16_linux64_openblas\n",
      "  - conda-forge/linux-64::libhwloc==2.8.0=h32351e8_1\n",
      "  - conda-forge/linux-64::fmilib==2.4.1=h27087fc_0\n",
      "  - conda-forge/linux-64::sundials==6.4.1=h89a52a3_0\n",
      "\b\b/ \b\b- \b\b\\ \b\b| \b\b/ \b\b- \b\b\\ \b\b| \b\b/ \b\b- \b\b\\ \b\b| \b\b/ \b\b- \b\b\\ \b\b| \b\bfailed with repodata from current_repodata.json, will retry with next repodata source.\n",
      "Solving environment: - \b\b\\ \b\b| \b\b/ \b\b- \b\b\\ \b\b| \b\b/ \b\b- \b\b\\ \b\b| \b\b/ \b\b- \b\b\\ \b\b| \b\b/ \b\b- \b\b\\ \b\b| \b\b/ \b\b- \b\b\\ \b\b| \b\b/ \b\b- \b\b\\ \b\b| \b\b/ \b\b- \b\bfailed with repodata from current_repodata.json, will retry with next repodata source.\n",
      "Collecting package metadata (repodata.json): | \b\b/ \b\b- \b\b\\ \b\b| \b\b/ \b\b- \b\b\\ \b\b| \b\b/ \b\b- \b\b\\ \b\b| \b\b/ \b\b- \b\b\\ \b\b| \b\b/ \b\b- \b\b\\ \b\b| \b\b/ \b\b- \b\b\\ \b\b| \b\b/ \b\b- \b\b\\ \b\b| \b\b/ \b\b- \b\b\\ \b\b| \b\b/ \b\b- \b\b\\ \b\b| \b\b/ \b\b- \b\b\\ \b\b| \b\b/ \b\b- \b\b\\ \b\b| \b\b/ \b\b- \b\b\\ \b\b| \b\b/ \b\b- \b\b\\ \b\b| \b\b/ \b\b- \b\b\\ \b\b| \b\b/ \b\b- \b\b\\ \b\b| \b\b/ \b\b- \b\b\\ \b\b| \b\b/ \b\b- \b\b\\ \b\b| \b\b/ \b\b- \b\b\\ \b\b| \b\b/ \b\b- \b\b\\ \b\b| \b\b/ \b\b- \b\b\\ \b\b| \b\bdone\n",
      "Solving environment: - \b\b\\ \b\b| \b\b/ \b\b- \b\b\\ \b\b| \b\b/ \b\b- \b\b\\ \b\b| \b\b/ \b\b- \b\b\\ \b\b| \b\b/ \b\b- \b\b\\ \b\b| \b\b/ \b\b- \b\b\\ \b\b| \b\b/ \b\b- \b\b\\ \b\b| \b\b/ \b\b- \b\b\\ \b\b| \b\b/ \b\b- \b\b\\ \b\b| \b\b/ \b\b- \b\b\\ \b\b| \b\b/ \b\b- \b\b\\ \b\b| \b\b/ \b\b- \b\b\\ \b\b| \b\b/ \b\b- \b\b\\ \b\b| \b\b/ \b\b- \b\b\\ \b\b| \b\b/ \b\b- \b\b\\ \b\b| \b\b/ \b\b- \b\b\\ \b\b| \b\b/ \b\b- \b\b\\ \b\b| \b\b/ \b\b- \b\b\\ \b\b| \b\b/ \b\b- \b\b\\ \b\b| \b\b/ \b\b- \b\b\\ \b\b| \b\b/ \b\b- \b\b\\ \b\b| \b\b/ \b\b- \b\b\\ \b\b| \b\b/ \b\b- \b\b\\ \b\b| \b\b/ \b\b- \b\b\\ \b\b| \b\b/ \b\b- \b\b\\ \b\b| \b\b/ \b\b- \b\b\\ \b\b| \b\b/ \b\b- \b\b\\ \b\b| \b\b/ \b\b- \b\b\\ \b\b| \b\b/ \b\b- \b\b\\ \b\b| \b\b/ \b\b- \b\b\\ \b\b| \n",
      "The environment is inconsistent, please check the package plan carefully\n",
      "The following packages are causing the inconsistency:\n",
      "\n",
      "  - conda-forge/linux-64::tbb==2021.7.0=h924138e_1\n",
      "  - conda-forge/linux-64::numpy==1.24.1=py38hab0fcb9_0\n",
      "  - conda-forge/linux-64::suitesparse==5.10.1=h9e50725_1\n",
      "  - conda-forge/linux-64::scipy==1.10.0=py38h10c12cc_0\n",
      "  - conda-forge/linux-64::libcblas==3.9.0=16_linux64_openblas\n",
      "  - conda-forge/linux-64::libopenblas==0.3.21=pthreads_h78a6416_3\n",
      "  - conda-forge/linux-64::pyfmi==2.9.8=py38h26c90d9_1\n",
      "  - conda-forge/linux-64::assimulo==3.3=py38h71f17ff_1\n",
      "  - conda-forge/linux-64::libblas==3.9.0=16_linux64_openblas\n",
      "  - conda-forge/linux-64::liblapack==3.9.0=16_linux64_openblas\n",
      "  - conda-forge/linux-64::libhwloc==2.8.0=h32351e8_1\n",
      "  - conda-forge/linux-64::fmilib==2.4.1=h27087fc_0\n",
      "  - conda-forge/linux-64::sundials==6.4.1=h89a52a3_0\n",
      "\b\b/ \b\b- \b\b\\ \b\b| \b\b/ \b\b- \b\b\\ \b\b| \b\b/ \b\b- \b\b\\ \b\b| \b\b/ \b\b- \b\b\\ \b\b| \b\b/ \b\b- \b\b\\ \b\b| \b\b/ \b\b- \b\b\\ \b\b| \b\b/ \b\b- \b\b\\ \b\b| \b\b/ \b\b- \b\b\\ \b\b| \b\b/ \b\b- \b\b\\ \b\b| \b\b/ \b\b- \b\b\\ \b\b| \b\b/ \b\b- \b\b\\ \b\b| \b\b/ \b\b- \b\b\\ \b\b| \b\b/ \b\b- \b\b\\ \b\b| \b\b/ \b\b- \b\b\\ \b\b| \b\b/ \b\b- \b\b\\ \b\b| \b\b/ \b\b- \b\b\\ \b\b| \b\b/ \b\b- \b\b\\ \b\b| \b\b/ \b\b- \b\b\\ \b\b| \b\b/ \b\b- \b\b\\ \b\b| \b\b/ \b\b- \b\b\\ \b\b| \b\b/ \b\b- \b\b\\ \b\b| \b\b/ \b\b- \b\b\\ \b\b| \b\b/ \b\b- \b\b\\ \b\b| \b\b/ \b\b- \b\b\\ \b\b| \b\b/ \b\b- \b\b\\ \b\b| \b\b/ \b\b- \b\b\\ \b\b| \b\b/ \b\b- \b\b\\ \b\b| \b\b/ \b\b- \b\b\\ \b\b| \b\b/ \b\b- \b\b\\ \b\b| \b\b/ \b\b- \b\b\\ \b\b| \b\b/ \b\b- \b\b\\ \b\b| \b\b/ \b\b- \b\b\\ \b\b| \b\b/ \b\b- \b\b\\ \b\b| \b\b/ \b\b- \b\b\\ \b\b| \b\b/ \b\b- \b\b\\ \b\b| \b\b/ \b\b- \b\b\\ \b\b| \b\b/ \b\b- \b\b\\ \b\b| \b\b/ \b\b- \b\b\\ \b\b| \b\b/ \b\b- \b\b\\ \b\b| \b\b/ \b\b- \b\b\\ \b\b| \b\bfailed\n",
      "Solving environment: - \b\b\\ \b\b| \b\b/ \b\b- \b\b\\ \b\b| \b\b/ \b\b- \b\b\\ \b\b| \b\b/ \b\b- \b\b\\ \b\b| \b\b/ \b\b- \b\b\\ \b\b| \b\b/ \b\b- \b\b\\ \b\b| \b\b/ \b\b- \b\b\\ \b\b| \b\b/ \b\b- \b\b\\ \b\b| \b\b/ \b\b- \b\b\\ \b\b| \b\b/ \b\b- \b\b\\ \b\b| \b\b/ \b\b- \b\b\\ \b\b| \b\b/ \b\b- \b\b\\ \b\b| \b\b/ \b\b- \b\b\\ \b\b| \b\b/ \b\b- \b\b\\ \b\b| \b\b/ \b\b- \b\b\\ \b\b| \b\b/ \b\b- \b\b\\ \b\b| \b\b/ \b\b- \b\b\\ \b\b| \b\b/ \b\b- \b\b\\ \b\b| \b\b/ \b\b- \b\b\\ \b\b| \b\b/ \b\b- \b\b\\ \b\b| \b\b/ \b\b- \b\b\\ \b\b| \b\b/ \b\b- \b\b\\ \b\b| \b\b/ \b\b- \b\b\\ \b\b| \b\b/ \b\b- \b\b\\ \b\b| \b\b/ \b\b- \b\b\\ \b\b| \b\b/ \b\b- \b\b\\ \b\b| \b\b/ \b\b- \b\b\\ \b\b| \b\b/ \b\b- \b\b\\ \b\b| \b\b/ \b\b- \b\b\\ \b\b| \b\b/ \b\b- \b\b\\ \b\b| \b\b/ \b\b- \b\b\\ \b\b| \b\b/ \b\b- \b\b\\ \b\b| \b\b/ \b\b- \b\b\\ \b\b| \b\b/ \b\b- \b\b\\ \b\b| \b\b/ \b\b- \b\b\\ \b\b| \b\b/ \b\b- \b\b\\ \b\b| \b\b/ \b\b- \b\b\\ \b\b| \b\b/ \b\b- \b\b\\ \b\b| \b\b/ \b\b- \b\b\\ \b\b| \b\b/ \b\b- \b\b\\ \b\b| \b\b/ \b\b- \b\b\\ \b\b| \b\b/ \b\b- \b\b\\ \b\b| \b\b/ \b\b- \b\b\\ \b\b| \b\b/ \b\b- \b\b\\ \b\b| \b\b/ \b\b- \b\b\\ \b\b| \b\b/ \b\b- \b\b\\ \b\b| \b\b/ \b\b- \b\b\\ \b\b| \b\b/ \b\b- \b\b\\ \b\b| \b\b/ \b\b- \b\b\\ \b\b| \b\b/ \b\b- \b\b\\ \b\b| \b\b/ \b\b- \b\b\\ \b\b| \b\b/ \b\b- \b\b\\ \b\b| \b\b/ \b\b- \b\b\\ \b\b| \b\b/ \b\b- \b\b\\ \b\b| \b\b/ \b\b- \b\b\\ \b\b| \b\b/ \b\b- \b\b\\ \b\b| \b\b/ \b\b- \b\b\\ \n",
      "Found conflicts! Looking for incompatible packages.\n",
      "This can take several minutes.  Press CTRL-C to abort.\n",
      "\b\b/ \b\bfailed\n",
      "\n",
      "UnsatisfiableError: The following specifications were found\n",
      "to be incompatible with the existing python installation in your environment:\n",
      "\n",
      "Specifications:\n",
      "\n",
      "  - conda-content-trust -> python[version='>=2.7,<2.8.0a0|>=3.6,<3.7.0a0|>=3.5,<3.6.0a0']\n",
      "  - wheel -> python[version='>=3.10,<3.11.0a0|>=3.9,<3.10.0a0|>=3.11,<3.12.0a0']\n",
      "\n",
      "Your python: python=3.8\n",
      "\n",
      "If python is on the left-most side of the chain, that's the version you've asked for.\n",
      "When python appears to the right, that indicates that the thing on the left is somehow\n",
      "not available for the python version you are constrained to. Note that conda will not\n",
      "change your python version to a different minor version unless you explicitly specify\n",
      "that.\n",
      "\n",
      "The following specifications were found to be incompatible with a past\n",
      "explicit spec that is not an explicit spec in this operation (setuptools):\n",
      "\n",
      "  - conda -> conda[version='>=22.11.1']\n",
      "  - conda -> python[version='>=3.9,<3.10.0a0'] -> pip\n",
      "  - conda -> ruamel.yaml[version='>=0.11.14,<0.18'] -> setuptools\n",
      "  - conda -> setuptools[version='>=31.0.1']\n",
      "\n",
      "The following specifications were found to be incompatible with each other:\n",
      "\n",
      "Output in format: Requested package -> Available versions\n",
      "\n",
      "Package libgcc-ng conflicts for:\n",
      "setuptools -> python[version='>=3.10,<3.11.0a0'] -> libgcc-ng[version='>=11.2.0|>=7.5.0|>=7.3.0|>=7.2.0']\n",
      "libopenblas -> libgcc-ng[version='>=11.2.0|>=7.5.0|>=7.3.0|>=8.2.0|>=7.2.0|>=12']\n",
      "conda-content-trust -> cryptography -> libgcc-ng[version='>=11.2.0|>=7.2.0|>=7.3.0|>=7.5.0']\n",
      "assimulo -> libgcc-ng[version='>=12']\n",
      "certifi -> python[version='>=3.9,<3.10.0a0'] -> libgcc-ng[version='>=11.2.0|>=7.5.0|>=7.3.0|>=7.2.0']\n",
      "wheel -> python -> libgcc-ng[version='>=11.2.0|>=7.5.0|>=7.3.0|>=7.2.0']\n",
      "openssl -> libgcc-ng[version='>=11.2.0|>=7.5.0|>=7.3.0|>=7.2.0']\n",
      "libblas -> libopenblas[version='>=0.3.21,<0.3.22.0a0'] -> libgcc-ng[version='>=11.2.0|>=12']\n",
      "sundials -> libgcc-ng[version='>=12']\n",
      "numpy -> libopenblas[version='>=0.3.2,<0.3.3.0a0'] -> libgcc-ng[version='>=8.2.0']\n",
      "suitesparse -> tbb[version='>=2020.3'] -> libgcc-ng[version='>=12']\n",
      "assimulo -> numpy[version='>=1.20.3,<2.0a0'] -> libgcc-ng[version='>=11.2.0|>=7.5.0|>=7.3.0|>=7.2.0']\n",
      "pip -> python[version='>=3.8,<3.9.0a0'] -> libgcc-ng[version='>=11.2.0|>=7.5.0|>=7.3.0|>=7.2.0']\n",
      "numpy -> libgcc-ng[version='>=11.2.0|>=7.5.0|>=7.3.0|>=7.2.0|>=12']\n",
      "tbb -> libgcc-ng[version='>=11.2.0|>=7.5.0|>=7.3.0|>=7.2.0|>=12']\n",
      "python=3.8 -> libgcc-ng[version='>=11.2.0|>=7.5.0|>=7.3.0']\n",
      "fmilib -> libgcc-ng[version='>=12']\n",
      "sundials -> suitesparse[version='>=5.10.1,<6.0a0'] -> libgcc-ng[version='>=11.2.0|>=7.5.0|>=9.4.0']\n",
      "scipy -> libopenblas[version='>=0.3.2,<0.3.3.0a0'] -> libgcc-ng[version='>=8.2.0']\n",
      "libhwloc -> libgcc-ng[version='>=12']\n",
      "scipy -> libgcc-ng[version='>=11.2.0|>=7.5.0|>=7.3.0|>=7.2.0|>=12']\n",
      "conda -> conda-package-handling[version='>=1.3.0'] -> libgcc-ng[version='>=11.2.0|>=7.5.0|>=7.3.0|>=7.2.0']\n",
      "libhwloc -> libxml2[version='>=2.9.14,<2.11.0a0'] -> libgcc-ng[version='>=7.5.0']\n",
      "pyfmi -> lxml -> libgcc-ng[version='>=11.2.0|>=7.5.0|>=7.3.0|>=7.2.0']\n",
      "conda[version='>=22.11.1'] -> conda-package-handling[version='>=1.3.0'] -> libgcc-ng[version='>=11.2.0|>=7.5.0|>=7.3.0|>=7.2.0']\n",
      "python=3.8 -> zlib[version='>=1.2.11,<1.3.0a0'] -> libgcc-ng[version='>=7.2.0']\n",
      "suitesparse -> libgcc-ng[version='>=11.2.0|>=7.5.0|>=7.3.0|>=7.2.0|>=9.4.0']\n",
      "pyfmi -> libgcc-ng[version='>=12']\n",
      "\n",
      "Package pip conflicts for:\n",
      "conda-content-trust -> python[version='>=3.7,<3.8.0a0'] -> pip\n",
      "assimulo -> python[version='>=3.8,<3.9.0a0'] -> pip\n",
      "pyfmi -> python[version='>=3.8,<3.9.0a0'] -> pip\n",
      "certifi -> python[version='>=3.9,<3.10.0a0'] -> pip\n",
      "scipy -> python[version='>=3.9,<3.10.0a0'] -> pip\n",
      "wheel -> python -> pip\n",
      "conda[version='>=22.11.1'] -> python[version='>=3.9,<3.10.0a0'] -> pip\n",
      "python=3.8 -> pip\n",
      "setuptools -> python[version='>=3.10,<3.11.0a0'] -> pip\n",
      "\n",
      "Package libblas conflicts for:\n",
      "assimulo -> libblas[version='>=3.9.0,<4.0a0']\n",
      "liblapack -> libblas==3.9.0=16_linux64_openblas\n",
      "sundials -> libblas[version='>=3.9.0,<4.0a0']\n",
      "suitesparse -> libblas[version='>=3.8.0,<4.0a0']\n",
      "scipy -> libblas[version='>=3.9.0,<4.0a0']\n",
      "scipy -> libcblas[version='>=3.9.0,<4.0a0'] -> libblas==3.9.0=16_linux64_openblas\n",
      "sundials -> liblapack[version='>=3.9.0,<4.0a0'] -> libblas[version='3.9.0|>=3.8.0,<4.0a0',build=16_linux64_openblas]\n",
      "pyfmi -> assimulo[version='>=3.0'] -> libblas[version='>=3.9.0,<4.0a0']\n",
      "suitesparse -> libcblas[version='>=3.8.0,<4.0a0'] -> libblas==3.9.0=16_linux64_openblas\n",
      "assimulo -> liblapack[version='>=3.9.0,<4.0a0'] -> libblas==3.9.0=16_linux64_openblas\n",
      "libcblas -> libblas==3.9.0=16_linux64_openblas\n",
      "\n",
      "Package libgfortran-ng conflicts for:\n",
      "numpy -> libgfortran-ng[version='>=7,<8.0a0|>=7.2.0,<8.0a0']\n",
      "assimulo -> libgfortran-ng\n",
      "scipy -> libopenblas[version='>=0.3.2,<0.3.3.0a0'] -> libgfortran-ng[version='>=8,<9.0a0']\n",
      "pyfmi -> assimulo[version='>=3.0'] -> libgfortran-ng[version='>=7,<8.0a0|>=7.2.0,<8.0a0']\n",
      "suitesparse -> libopenblas[version='>=0.3.20,<1.0a0'] -> libgfortran-ng[version='>=7,<8.0a0|>=7.2.0,<8.0a0']\n",
      "assimulo -> scipy -> libgfortran-ng[version='>=7,<8.0a0|>=7.2.0,<8.0a0']\n",
      "scipy -> libgfortran-ng[version='>=7,<8.0a0|>=7.2.0,<8.0a0']\n",
      "numpy -> libopenblas[version='>=0.3.2,<0.3.3.0a0'] -> libgfortran-ng[version='>=8,<9.0a0']\n",
      "libopenblas -> libgfortran-ng[version='>=7,<8.0a0|>=8,<9.0a0|>=7.2.0,<8.0a0']\n",
      "libblas -> libopenblas[version='>=0.3.21,<0.3.22.0a0'] -> libgfortran-ng\n",
      "\n",
      "Package enum34 conflicts for:\n",
      "conda -> enum34\n",
      "conda-content-trust -> cryptography -> enum34\n",
      "\n",
      "Package _libgcc_mutex conflicts for:\n",
      "openssl -> libgcc-ng[version='>=7.5.0'] -> _libgcc_mutex[version='*|0.1',build=main]\n",
      "numpy -> libgcc-ng[version='>=11.2.0'] -> _libgcc_mutex[version='*|0.1',build=main]\n",
      "python=3.8 -> libgcc-ng[version='>=11.2.0'] -> _libgcc_mutex[version='*|0.1',build=main]\n",
      "suitesparse -> libgcc-ng[version='>=11.2.0'] -> _libgcc_mutex[version='*|0.1',build=main]\n",
      "scipy -> libgcc-ng[version='>=11.2.0'] -> _libgcc_mutex[version='*|0.1',build=main]\n",
      "tbb -> libgcc-ng[version='>=11.2.0'] -> _libgcc_mutex[version='*|0.1',build=main]\n",
      "libopenblas -> libgcc-ng[version='>=11.2.0'] -> _libgcc_mutex[version='*|0.1',build=main]\n",
      "\n",
      "Package requests conflicts for:\n",
      "conda[version='>=22.11.1'] -> requests[version='>=2.20.1,<3']\n",
      "conda -> requests[version='>=2.12.4|>=2.12.4,<3|>=2.18.4,<3|>=2.20.1,<3|>=2.14.2,<3']\n",
      "scipy -> pooch -> requests[version='>=2.19.0']\n",
      "\n",
      "Package zlib conflicts for:\n",
      "conda[version='>=22.11.1'] -> python[version='>=3.9,<3.10.0a0'] -> zlib[version='>=1.2.11,<1.3.0a0|>=1.2.12,<1.3.0a0|>=1.2.13,<1.3.0a0']\n",
      "conda-content-trust -> python[version='>=3.7,<3.8.0a0'] -> zlib[version='>=1.2.11,<1.3.0a0|>=1.2.12,<1.3.0a0|>=1.2.13,<1.3.0a0']\n",
      "assimulo -> python[version='>=3.8,<3.9.0a0'] -> zlib[version='>=1.2.11,<1.3.0a0|>=1.2.12,<1.3.0a0|>=1.2.13,<1.3.0a0']\n",
      "python=3.8 -> zlib[version='>=1.2.11,<1.3.0a0|>=1.2.12,<1.3.0a0|>=1.2.13,<1.3.0a0']\n",
      "pyfmi -> python[version='>=3.8,<3.9.0a0'] -> zlib[version='>=1.2.11,<1.3.0a0|>=1.2.12,<1.3.0a0|>=1.2.13,<1.3.0a0']\n",
      "conda -> python[version='>=3.9,<3.10.0a0'] -> zlib[version='>=1.2.11,<1.3.0a0|>=1.2.12,<1.3.0a0|>=1.2.13,<1.3.0a0']\n",
      "numpy -> python[version='>=3.9,<3.10.0a0'] -> zlib[version='>=1.2.11,<1.3.0a0|>=1.2.12,<1.3.0a0|>=1.2.13,<1.3.0a0']\n",
      "libhwloc -> libxml2[version='>=2.9.14,<2.11.0a0'] -> zlib[version='>=1.2.12,<1.3.0a0']\n",
      "setuptools -> python[version='>=3.10,<3.11.0a0'] -> zlib[version='>=1.2.11,<1.3.0a0|>=1.2.12,<1.3.0a0|>=1.2.13,<1.3.0a0']\n",
      "pip -> python[version='>=3.8,<3.9.0a0'] -> zlib[version='>=1.2.11,<1.3.0a0|>=1.2.12,<1.3.0a0|>=1.2.13,<1.3.0a0']\n",
      "certifi -> python[version='>=3.9,<3.10.0a0'] -> zlib[version='>=1.2.11,<1.3.0a0|>=1.2.12,<1.3.0a0|>=1.2.13,<1.3.0a0']\n",
      "scipy -> python[version='>=3.9,<3.10.0a0'] -> zlib[version='>=1.2.11,<1.3.0a0|>=1.2.12,<1.3.0a0|>=1.2.13,<1.3.0a0']\n",
      "wheel -> python -> zlib[version='>=1.2.11,<1.3.0a0|>=1.2.12,<1.3.0a0|>=1.2.13,<1.3.0a0']\n",
      "\n",
      "Package libstdcxx-ng conflicts for:\n",
      "sundials -> libstdcxx-ng[version='>=12']\n",
      "conda[version='>=22.11.1'] -> python[version='>=3.9,<3.10.0a0'] -> libstdcxx-ng[version='>=11.2.0|>=7.5.0|>=7.3.0|>=7.2.0']\n",
      "suitesparse -> tbb[version='>=2020.3'] -> libstdcxx-ng[version='>=12']\n",
      "conda -> python[version='>=3.9,<3.10.0a0'] -> libstdcxx-ng[version='>=11.2.0|>=7.5.0|>=7.3.0|>=7.2.0']\n",
      "conda-content-trust -> python[version='>=3.7,<3.8.0a0'] -> libstdcxx-ng[version='>=11.2.0|>=7.2.0|>=7.3.0|>=7.5.0']\n",
      "python=3.8 -> libffi[version='>=3.2.1,<3.3a0'] -> libstdcxx-ng[version='>=7.2.0']\n",
      "libopenblas -> libstdcxx-ng[version='>=11.2.0|>=7.5.0']\n",
      "fmilib -> libstdcxx-ng[version='>=12']\n",
      "setuptools -> python[version='>=3.9,<3.10.0a0'] -> libstdcxx-ng[version='>=11.2.0|>=7.5.0|>=7.3.0|>=7.2.0']\n",
      "scipy -> libstdcxx-ng[version='>=11.2.0|>=7.5.0|>=7.3.0|>=7.2.0|>=12']\n",
      "assimulo -> numpy[version='>=1.20.3,<2.0a0'] -> libstdcxx-ng[version='>=11.2.0|>=7.5.0|>=12|>=7.3.0|>=7.2.0']\n",
      "libblas -> libopenblas[version='>=0.3.21,<0.3.22.0a0'] -> libstdcxx-ng[version='>=11.2.0']\n",
      "sundials -> suitesparse[version='>=5.10.1,<6.0a0'] -> libstdcxx-ng[version='>=11.2.0|>=7.5.0|>=9.4.0']\n",
      "pyfmi -> fmilib[version='>=2.4.1,<2.5.0a0'] -> libstdcxx-ng[version='>=11.2.0|>=12|>=7.5.0|>=7.3.0|>=7.2.0']\n",
      "libhwloc -> libstdcxx-ng[version='>=12']\n",
      "pip -> python[version='>=3.8,<3.9.0a0'] -> libstdcxx-ng[version='>=11.2.0|>=7.5.0|>=7.3.0|>=7.2.0']\n",
      "tbb -> libstdcxx-ng[version='>=11.2.0|>=7.5.0|>=7.3.0|>=7.2.0|>=12']\n",
      "certifi -> python[version='>=3.9,<3.10.0a0'] -> libstdcxx-ng[version='>=11.2.0|>=7.5.0|>=7.3.0|>=7.2.0']\n",
      "wheel -> python -> libstdcxx-ng[version='>=11.2.0|>=7.5.0|>=7.3.0|>=7.2.0']\n",
      "numpy -> mkl_fft -> libstdcxx-ng[version='>=7.2.0|>=7.3.0']\n",
      "python=3.8 -> libstdcxx-ng[version='>=11.2.0|>=7.5.0|>=7.3.0']\n",
      "numpy -> libstdcxx-ng[version='>=11.2.0|>=7.5.0|>=12']\n",
      "suitesparse -> libstdcxx-ng[version='>=11.2.0|>=7.5.0|>=7.3.0|>=7.2.0|>=9.4.0']\n",
      "\n",
      "Package libgfortran5 conflicts for:\n",
      "libopenblas -> libgfortran-ng -> libgfortran5[version='11.2.0.*|9.3.0.*|8.4.0.*|12.2.0',build=h337968e_19]\n",
      "libopenblas -> libgfortran5[version='>=10.4.0|>=11.2.0']\n",
      "\n",
      "Package libopenblas conflicts for:\n",
      "libblas -> libopenblas[version='>=0.3.21,<0.3.22.0a0|>=0.3.21,<1.0a0']\n",
      "assimulo -> libblas[version='>=3.9.0,<4.0a0'] -> libopenblas[version='>=0.2.20,<0.2.21.0a0|>=0.3.2,<0.3.3.0a0|>=0.3.20,<1.0a0|>=0.3.21,<0.3.22.0a0|>=0.3.21,<1.0a0|>=0.3.3,<1.0a0']\n",
      "suitesparse -> libblas[version='>=3.8.0,<4.0a0'] -> libopenblas[version='>=0.3.21,<0.3.22.0a0|>=0.3.21,<1.0a0']\n",
      "pyfmi -> numpy[version='>=1.20.3,<2.0a0'] -> libopenblas[version='>=0.2.20,<0.2.21.0a0|>=0.3.2,<0.3.3.0a0|>=0.3.20,<1.0a0|>=0.3.3,<1.0a0|>=0.3.21,<1.0a0']\n",
      "scipy -> libopenblas[version='>=0.2.20,<0.2.21.0a0|>=0.3.2,<0.3.3.0a0|>=0.3.20,<1.0a0|>=0.3.21,<1.0a0|>=0.3.3,<1.0a0']\n",
      "scipy -> libblas[version='>=3.9.0,<4.0a0'] -> libopenblas[version='>=0.3.21,<0.3.22.0a0']\n",
      "suitesparse -> libopenblas[version='>=0.2.20,<0.2.21.0a0|>=0.3.20,<1.0a0|>=0.3.3,<1.0a0']\n",
      "libcblas -> libblas==3.9.0=16_linux64_openblas -> libopenblas[version='>=0.3.21,<0.3.22.0a0|>=0.3.21,<1.0a0']\n",
      "liblapack -> libblas==3.9.0=16_linux64_openblas -> libopenblas[version='>=0.3.21,<0.3.22.0a0|>=0.3.21,<1.0a0']\n",
      "sundials -> libblas[version='>=3.9.0,<4.0a0'] -> libopenblas[version='>=0.3.20,<1.0a0|>=0.3.21,<0.3.22.0a0|>=0.3.21,<1.0a0|>=0.3.3,<1.0a0']\n",
      "\n",
      "Package liblapack conflicts for:\n",
      "pyfmi -> assimulo[version='>=3.0'] -> liblapack[version='>=3.9.0,<4.0a0']\n",
      "assimulo -> liblapack[version='>=3.9.0,<4.0a0']\n",
      "sundials -> suitesparse[version='>=5.10.1,<6.0a0'] -> liblapack[version='>=3.8.0,<4.0a0']\n",
      "sundials -> liblapack[version='>=3.9.0,<4.0a0']\n",
      "scipy -> liblapack[version='>=3.9.0,<4.0a0']\n",
      "suitesparse -> liblapack[version='>=3.8.0,<4.0a0']\n",
      "\n",
      "Package intel-openmp conflicts for:\n",
      "suitesparse -> mkl[version='>=2021.4.0,<2022.0a0'] -> intel-openmp=2021\n",
      "scipy -> mkl[version='>=2021.4.0,<2022.0a0'] -> intel-openmp=2021\n",
      "pyfmi -> scipy -> intel-openmp[version='>=2021.4.0,<2022.0a0']\n",
      "scipy -> intel-openmp[version='>=2021.4.0,<2022.0a0']\n",
      "assimulo -> scipy -> intel-openmp[version='>=2021.4.0,<2022.0a0']\n",
      "numpy -> mkl[version='>=2021.4.0,<2022.0a0'] -> intel-openmp[version='2021.*|2022.*']\n",
      "\n",
      "Package openssl conflicts for:\n",
      "scipy -> python[version='>=3.9,<3.10.0a0'] -> openssl[version='1.0.*|>=1.0.2m,<1.0.3a|>=1.0.2n,<1.0.3a|>=1.0.2o,<1.0.3a|>=1.0.2p,<1.0.3a|>=1.1.1a,<1.1.2a|>=1.1.1b,<1.1.2a|>=1.1.1c,<1.1.2a|>=1.1.1d,<1.1.2a|>=1.1.1e,<1.1.2a|>=1.1.1g,<1.1.2a|>=1.1.1h,<1.1.2a|>=1.1.1i,<1.1.2a|>=1.1.1j,<1.1.2a|>=1.1.1k,<1.1.2a|>=1.1.1l,<1.1.2a|>=1.1.1n,<1.1.2a|>=1.1.1o,<1.1.2a|>=1.1.1q,<1.1.2a|>=1.1.1s,<1.1.2a|>=1.1.1m,<1.1.2a|>=1.0.2l,<1.0.3a']\n",
      "python=3.8 -> openssl[version='>=1.1.1d,<1.1.2a|>=1.1.1e,<1.1.2a|>=1.1.1g,<1.1.2a|>=1.1.1j,<1.1.2a|>=1.1.1k,<1.1.2a|>=1.1.1l,<1.1.2a|>=1.1.1n,<1.1.2a|>=1.1.1q,<1.1.2a|>=1.1.1s,<1.1.2a']\n",
      "setuptools -> python[version='>=3.10,<3.11.0a0'] -> openssl[version='1.0.*|>=1.0.2m,<1.0.3a|>=1.0.2n,<1.0.3a|>=1.0.2o,<1.0.3a|>=1.0.2p,<1.0.3a|>=1.1.1a,<1.1.2a|>=1.1.1b,<1.1.2a|>=1.1.1c,<1.1.2a|>=1.1.1d,<1.1.2a|>=1.1.1e,<1.1.2a|>=1.1.1g,<1.1.2a|>=1.1.1h,<1.1.2a|>=1.1.1i,<1.1.2a|>=1.1.1j,<1.1.2a|>=1.1.1k,<1.1.2a|>=1.1.1l,<1.1.2a|>=1.1.1m,<1.1.2a|>=1.1.1n,<1.1.2a|>=1.1.1q,<1.1.2a|>=1.1.1s,<1.1.2a|>=1.1.1o,<1.1.2a|>=1.0.2l,<1.0.3a']\n",
      "wheel -> python -> openssl[version='1.0.*|>=1.0.2m,<1.0.3a|>=1.0.2n,<1.0.3a|>=1.0.2o,<1.0.3a|>=1.0.2p,<1.0.3a|>=1.1.1a,<1.1.2a|>=1.1.1b,<1.1.2a|>=1.1.1c,<1.1.2a|>=1.1.1d,<1.1.2a|>=1.1.1e,<1.1.2a|>=1.1.1g,<1.1.2a|>=1.1.1h,<1.1.2a|>=1.1.1i,<1.1.2a|>=1.1.1j,<1.1.2a|>=1.1.1k,<1.1.2a|>=1.1.1l,<1.1.2a|>=1.1.1m,<1.1.2a|>=1.1.1n,<1.1.2a|>=1.1.1q,<1.1.2a|>=1.1.1s,<1.1.2a|>=1.1.1o,<1.1.2a|>=1.0.2l,<1.0.3a']\n",
      "pip -> python[version='>=3.8,<3.9.0a0'] -> openssl[version='1.0.*|>=1.0.2m,<1.0.3a|>=1.0.2n,<1.0.3a|>=1.0.2o,<1.0.3a|>=1.0.2p,<1.0.3a|>=1.1.1a,<1.1.2a|>=1.1.1b,<1.1.2a|>=1.1.1c,<1.1.2a|>=1.1.1d,<1.1.2a|>=1.1.1e,<1.1.2a|>=1.1.1g,<1.1.2a|>=1.1.1j,<1.1.2a|>=1.1.1k,<1.1.2a|>=1.1.1l,<1.1.2a|>=1.1.1n,<1.1.2a|>=1.1.1q,<1.1.2a|>=1.1.1s,<1.1.2a|>=1.1.1m,<1.1.2a|>=1.1.1o,<1.1.2a|>=1.1.1i,<1.1.2a|>=1.1.1h,<1.1.2a|>=1.0.2l,<1.0.3a']\n",
      "certifi -> python[version='>=3.9,<3.10.0a0'] -> openssl[version='1.0.*|>=1.0.2m,<1.0.3a|>=1.0.2n,<1.0.3a|>=1.0.2o,<1.0.3a|>=1.0.2p,<1.0.3a|>=1.1.1a,<1.1.2a|>=1.1.1b,<1.1.2a|>=1.1.1c,<1.1.2a|>=1.1.1d,<1.1.2a|>=1.1.1e,<1.1.2a|>=1.1.1g,<1.1.2a|>=1.1.1h,<1.1.2a|>=1.1.1i,<1.1.2a|>=1.1.1j,<1.1.2a|>=1.1.1k,<1.1.2a|>=1.1.1l,<1.1.2a|>=1.1.1n,<1.1.2a|>=1.1.1o,<1.1.2a|>=1.1.1q,<1.1.2a|>=1.1.1s,<1.1.2a|>=1.1.1m,<1.1.2a|>=1.0.2l,<1.0.3a']\n",
      "conda -> python[version='>=3.9,<3.10.0a0'] -> openssl[version='1.0.*|>=1.0.2m,<1.0.3a|>=1.0.2n,<1.0.3a|>=1.0.2o,<1.0.3a|>=1.0.2p,<1.0.3a|>=1.1.1a,<1.1.2a|>=1.1.1b,<1.1.2a|>=1.1.1c,<1.1.2a|>=1.1.1d,<1.1.2a|>=1.1.1e,<1.1.2a|>=1.1.1g,<1.1.2a|>=1.1.1h,<1.1.2a|>=1.1.1i,<1.1.2a|>=1.1.1j,<1.1.2a|>=1.1.1k,<1.1.2a|>=1.1.1l,<1.1.2a|>=1.1.1n,<1.1.2a|>=1.1.1o,<1.1.2a|>=1.1.1q,<1.1.2a|>=1.1.1s,<1.1.2a|>=1.1.1m,<1.1.2a|>=1.0.2l,<1.0.3a']\n",
      "assimulo -> python[version='>=3.8,<3.9.0a0'] -> openssl[version='>=1.1.1d,<1.1.2a|>=1.1.1e,<1.1.2a|>=1.1.1g,<1.1.2a|>=1.1.1j,<1.1.2a|>=1.1.1k,<1.1.2a|>=1.1.1l,<1.1.2a|>=1.1.1n,<1.1.2a|>=1.1.1q,<1.1.2a|>=1.1.1s,<1.1.2a']\n",
      "conda-content-trust -> cryptography -> openssl[version='1.0.*|>=1.0.2o,<1.0.3a|>=1.0.2p,<1.0.3a|>=1.1.1a,<1.1.2a|>=1.1.1b,<1.1.2a|>=1.1.1c,<1.1.2a|>=1.1.1d,<1.1.2a|>=1.1.1g,<1.1.2a|>=1.1.1h,<1.1.2a|>=1.1.1i,<1.1.2a|>=1.1.1j,<1.1.2a|>=1.1.1k,<1.1.2a|>=1.1.1l,<1.1.2a|>=1.0.2n,<1.0.3a|>=1.0.2m,<1.0.3a|>=1.1.1s,<1.1.2a|>=1.1.1q,<1.1.2a|>=1.1.1n,<1.1.2a|>=1.1.1e,<1.1.2a|>=1.1.1o,<1.1.2a|>=1.1.1m,<1.1.2a|>=1.0.2l,<1.0.3a']\n",
      "conda[version='>=22.11.1'] -> python[version='>=3.9,<3.10.0a0'] -> openssl[version='>=1.0.2o,<1.0.3a|>=1.0.2p,<1.0.3a|>=1.1.1a,<1.1.2a|>=1.1.1b,<1.1.2a|>=1.1.1c,<1.1.2a|>=1.1.1d,<1.1.2a|>=1.1.1e,<1.1.2a|>=1.1.1g,<1.1.2a|>=1.1.1h,<1.1.2a|>=1.1.1i,<1.1.2a|>=1.1.1j,<1.1.2a|>=1.1.1k,<1.1.2a|>=1.1.1l,<1.1.2a|>=1.1.1n,<1.1.2a|>=1.1.1o,<1.1.2a|>=1.1.1q,<1.1.2a|>=1.1.1s,<1.1.2a|>=1.1.1m,<1.1.2a']\n",
      "pyfmi -> python[version='>=3.8,<3.9.0a0'] -> openssl[version='>=1.1.1d,<1.1.2a|>=1.1.1e,<1.1.2a|>=1.1.1g,<1.1.2a|>=1.1.1j,<1.1.2a|>=1.1.1k,<1.1.2a|>=1.1.1l,<1.1.2a|>=1.1.1n,<1.1.2a|>=1.1.1q,<1.1.2a|>=1.1.1s,<1.1.2a']\n",
      "\n",
      "Package libxml2 conflicts for:\n",
      "tbb -> libhwloc[version='>=2.8.0,<2.8.1.0a0'] -> libxml2[version='>=2.9.14,<2.11.0a0']\n",
      "libhwloc -> libxml2[version='>=2.9.14,<2.11.0a0']\n",
      "pyfmi -> lxml -> libxml2[version='>=2.9.10,<2.10.0a0|>=2.9.12,<2.10.0a0|>=2.9.14,<2.10.0a0|>=2.9.2,!=2.9.11,!=2.9.12|>=2.9.9,<2.10.0a0|>=2.9.8,<2.10.0a0|>=2.9.7,<2.10.0a0|>=2.9.4,<2.10.0a0']\n",
      "\n",
      "Package six conflicts for:\n",
      "numpy -> mkl-service[version='>=2.3.0,<3.0a0'] -> six\n",
      "conda-content-trust -> cryptography -> six[version='>=1.4.1']\n",
      "conda -> conda-package-handling[version='>=1.3.0'] -> six[version='>=1.5.2']\n",
      "suitesparse -> mkl-service[version='>=2.3.0,<3.0a0'] -> six\n",
      "conda-content-trust -> six\n",
      "scipy -> mkl-service[version='>=2.3.0,<3.0a0'] -> six\n",
      "conda[version='>=22.11.1'] -> conda-package-handling[version='>=1.3.0'] -> six[version='>=1.5.2']\n",
      "\n",
      "Package suitesparse conflicts for:\n",
      "assimulo -> sundials[version='>=6.4.0,<6.5.0a0'] -> suitesparse[version='>=5.10.1,<6.0a0']\n",
      "sundials -> suitesparse[version='>=5.10.1,<6.0a0']\n",
      "\n",
      "Package scipy conflicts for:\n",
      "pyfmi -> scipy\n",
      "assimulo -> scipy\n",
      "\n",
      "Package libgfortran4 conflicts for:\n",
      "pyfmi -> scipy -> libgfortran4[version='>=7.5.0']\n",
      "scipy -> libgfortran4[version='>=7.5.0']\n",
      "numpy -> libopenblas[version='>=0.3.3,<1.0a0'] -> libgfortran4[version='7.5.0.*|>=7.5.0']\n",
      "libopenblas -> libgfortran4[version='>=7.5.0']\n",
      "assimulo -> libgfortran-ng -> libgfortran4[version='7.5.0.*|>=7.5.0']\n",
      "scipy -> libgfortran-ng -> libgfortran4=7.5.0\n",
      "suitesparse -> libopenblas[version='>=0.3.3,<1.0a0'] -> libgfortran4[version='>=7.5.0']\n",
      "libopenblas -> libgfortran-ng -> libgfortran4=7.5.0\n",
      "\n",
      "Package ca-certificates conflicts for:\n",
      "python=3.8 -> openssl[version='>=1.1.1s,<1.1.2a'] -> ca-certificates\n",
      "wheel -> python -> ca-certificates\n",
      "conda-content-trust -> python -> ca-certificates\n",
      "scipy -> python[version='>=2.7,<2.8.0a0'] -> ca-certificates\n",
      "pip -> python[version='>=2.7,<2.8.0a0'] -> ca-certificates\n",
      "certifi -> python -> ca-certificates\n",
      "conda -> python[version='>=2.7,<2.8.0a0'] -> ca-certificates\n",
      "openssl -> ca-certificates\n",
      "setuptools -> python[version='>=2.7,<2.8.0a0'] -> ca-certificates\n",
      "\n",
      "Package libcblas conflicts for:\n",
      "scipy -> libcblas[version='>=3.9.0,<4.0a0']\n",
      "pyfmi -> numpy[version='>=1.20.3,<2.0a0'] -> libcblas[version='>=3.9.0,<4.0a0']\n",
      "assimulo -> numpy[version='>=1.20.3,<2.0a0'] -> libcblas[version='>=3.9.0,<4.0a0']\n",
      "sundials -> suitesparse[version='>=5.10.1,<6.0a0'] -> libcblas[version='>=3.8.0,<4.0a0']\n",
      "suitesparse -> libcblas[version='>=3.8.0,<4.0a0']\n",
      "\n",
      "Package mkl-service conflicts for:\n",
      "numpy -> mkl-service[version='>=2,<3.0a0|>=2.3.0,<3.0a0']\n",
      "assimulo -> numpy[version='>=1.20.3,<2.0a0'] -> mkl-service[version='>=2,<3.0a0|>=2.3.0,<3.0a0']\n",
      "suitesparse -> mkl-service[version='>=2.3.0,<3.0a0']\n",
      "sundials -> suitesparse[version='>=5.10.1,<6.0a0'] -> mkl-service[version='>=2.3.0,<3.0a0']\n",
      "pyfmi -> numpy[version='>=1.20.3,<2.0a0'] -> mkl-service[version='>=2,<3.0a0|>=2.3.0,<3.0a0']\n",
      "scipy -> mkl-service[version='>=2,<3.0a0|>=2.3.0,<3.0a0']\n",
      "\n",
      "Package cryptography conflicts for:\n",
      "conda[version='>=22.11.1'] -> pyopenssl[version='>=16.2.0'] -> cryptography[version='>=1.9|>=2.1.4|>=2.2.1|>=2.8|>=3.3|>=35.0']\n",
      "conda-content-trust -> cryptography\n",
      "conda -> pyopenssl[version='>=16.2.0'] -> cryptography[version='>=1.9|>=2.1.4|>=2.2.1|>=2.8|>=3.3|>=35.0']\n",
      "\n",
      "Package libuuid conflicts for:\n",
      "conda[version='>=22.11.1'] -> python[version='>=3.10,<3.11.0a0'] -> libuuid[version='>=1.0.3,<2.0a0|>=1.41.5,<2.0a0']\n",
      "conda -> python[version='>=3.10,<3.11.0a0'] -> libuuid[version='>=1.0.3,<2.0a0|>=1.41.5,<2.0a0']\n",
      "pip -> python[version='>=3.10,<3.11.0a0'] -> libuuid[version='>=1.0.3,<2.0a0|>=1.41.5,<2.0a0']\n",
      "wheel -> python -> libuuid[version='>=1.0.3,<2.0a0|>=1.41.5,<2.0a0']\n",
      "numpy -> python[version='>=3.10,<3.11.0a0'] -> libuuid[version='>=1.0.3,<2.0a0|>=1.41.5,<2.0a0']\n",
      "certifi -> python[version='>=3.10,<3.11.0a0'] -> libuuid[version='>=1.0.3,<2.0a0|>=1.41.5,<2.0a0']\n",
      "conda-content-trust -> python[version='>=3.10,<3.11.0a0'] -> libuuid[version='>=1.0.3,<2.0a0|>=1.41.5,<2.0a0']\n",
      "scipy -> python[version='>=3.10,<3.11.0a0'] -> libuuid[version='>=1.0.3,<2.0a0|>=1.41.5,<2.0a0']\n",
      "setuptools -> python[version='>=3.10,<3.11.0a0'] -> libuuid[version='>=1.0.3,<2.0a0|>=1.41.5,<2.0a0']\n",
      "\n",
      "Package tbb conflicts for:\n",
      "sundials -> suitesparse[version='>=5.10.1,<6.0a0'] -> tbb[version='>=2020.3|>=2021.3.0']\n",
      "suitesparse -> tbb[version='>=2018.0.4,<2019.0a0|>=2019.1|>=2020.3|>=2021.3.0']\n",
      "\n",
      "Package certifi conflicts for:\n",
      "conda[version='>=22.11.1'] -> requests[version='>=2.20.1,<3'] -> certifi[version='>=2016.09|>=2016.9.26|>=2017.4.17']\n",
      "setuptools -> certifi[version='>=2016.09|>=2016.9.26']\n",
      "conda -> requests[version='>=2.20.1,<3'] -> certifi[version='>=2016.09|>=2016.9.26|>=2017.4.17']\n",
      "pip -> setuptools -> certifi[version='>=2016.09|>=2016.9.26']\n",
      "wheel -> setuptools -> certifi[version='>=2016.09|>=2016.9.26']\n",
      "\n",
      "Package numpy conflicts for:\n",
      "scipy -> numpy[version='>=1.11.3,<2.0a0|>=1.14.6,<2.0a0|>=1.16,<1.23|>=1.19,<1.25.0|>=1.19,<1.26.0|>=1.21,<1.26.0|>=1.21,<1.25.0|>=1.21,<1.23|>=1.16.6,<1.23.0|>=1.21.2,<1.23.0|>=1.16.6,<2.0a0|>=1.15.1,<2.0a0|>=1.9.3,<2.0a0|>=1.20.3,<1.27|>=1.20.3,<2.0a0']\n",
      "pyfmi -> scipy -> numpy[version='>=1.11.3,<2.0a0|>=1.14.6,<2.0a0|>=1.16,<1.23|>=1.19,<1.25.0|>=1.19,<1.26.0|>=1.21,<1.26.0|>=1.21,<1.25.0|>=1.21,<1.23|>=1.16.6,<1.23.0|>=1.21.2,<1.23.0|>=1.16.6,<2.0a0|>=1.15.1,<2.0a0|>=1.9.3,<2.0a0|>=1.20.3,<1.27']\n",
      "assimulo -> scipy -> numpy[version='>=1.11.3,<2.0a0|>=1.14.6,<2.0a0|>=1.16,<1.23|>=1.19,<1.25.0|>=1.19,<1.26.0|>=1.21,<1.26.0|>=1.21,<1.25.0|>=1.21,<1.23|>=1.16.6,<1.23.0|>=1.21.2,<1.23.0|>=1.16.6,<2.0a0|>=1.15.1,<2.0a0|>=1.9.3,<2.0a0|>=1.20.3,<1.27']\n",
      "assimulo -> numpy[version='>=1.20.3,<2.0a0']\n",
      "pyfmi -> numpy[version='>=1.20.3,<2.0a0']\n",
      "\n",
      "Package setuptools conflicts for:\n",
      "conda[version='>=22.11.1'] -> setuptools[version='>=31.0.1']\n",
      "wheel -> setuptools\n",
      "conda[version='>=22.11.1'] -> ruamel.yaml[version='>=0.11.14,<0.18'] -> setuptools\n",
      "pip -> setuptools\n",
      "python=3.8 -> pip -> setuptools\n",
      "\n",
      "Package libhwloc conflicts for:\n",
      "tbb -> libhwloc[version='>=2.8.0,<2.8.1.0a0']\n",
      "suitesparse -> tbb[version='>=2020.3'] -> libhwloc[version='>=2.8.0,<2.8.1.0a0']\n",
      "\n",
      "Package sundials conflicts for:\n",
      "assimulo -> sundials[version='>=6.4.0,<6.5.0a0']\n",
      "pyfmi -> assimulo[version='>=3.0'] -> sundials[version='>=6.4.0,<6.5.0a0']\n",
      "\n",
      "Package gmp conflicts for:\n",
      "suitesparse -> gmp[version='>=6.1.2']\n",
      "suitesparse -> mpfr[version='>=4.0.2,<5.0a0'] -> gmp[version='>=6.2.1,<7.0a0']\n",
      "\n",
      "Package metis conflicts for:\n",
      "sundials -> suitesparse[version='>=5.10.1,<6.0a0'] -> metis[version='>=5.1.0,<5.2.0a0|>=5.1.0,<6.0a0']\n",
      "suitesparse -> metis[version='>=5.1.0,<5.2.0a0|>=5.1.0,<6.0a0']\n",
      "\n",
      "Package wheel conflicts for:\n",
      "python=3.8 -> pip -> wheel\n",
      "pip -> wheel\n",
      "\n",
      "Package mkl conflicts for:\n",
      "suitesparse -> mkl[version='>=2018.0.3,<2019.0a0|>=2019.1,<2021.0a0|>=2021.4.0,<2022.0a0']\n",
      "suitesparse -> mkl-service[version='>=2.3.0,<3.0a0'] -> mkl[version='>=2019.4,<2021.0a0|>=2021.2.0,<2022.0a0']The following specifications were found to be incompatible with your system:\n",
      "\n",
      "  - feature:/linux-64::__glibc==2.31=0\n",
      "  - feature:|@/linux-64::__glibc==2.31=0\n",
      "  - assimulo -> libgfortran-ng -> __glibc[version='>=2.17']\n",
      "  - libopenblas -> libgcc-ng[version='>=11.2.0'] -> __glibc[version='>=2.17']\n",
      "  - openssl -> libgcc-ng[version='>=7.5.0'] -> __glibc[version='>=2.17']\n",
      "  - python=3.8 -> libgcc-ng[version='>=11.2.0'] -> __glibc[version='>=2.17']\n",
      "  - scipy -> libgcc-ng[version='>=11.2.0'] -> __glibc[version='>=2.17']\n",
      "  - suitesparse -> libgcc-ng[version='>=11.2.0'] -> __glibc[version='>=2.17']\n",
      "  - tbb -> libgcc-ng[version='>=11.2.0'] -> __glibc[version='>=2.17']\n",
      "\n",
      "Your installed version is: 2.31\n",
      "\n",
      "\n"
     ]
    }
   ],
   "source": [
    "!conda update -n base -c defaults conda --yes"
   ]
  },
  {
   "cell_type": "code",
   "execution_count": null,
   "metadata": {
    "colab": {
     "base_uri": "https://localhost:8080/"
    },
    "id": "uoBMBSS63Z58",
    "outputId": "dda43b0b-5d63-428f-adb2-6c7a0125f517"
   },
   "outputs": [
    {
     "name": "stdout",
     "output_type": "stream",
     "text": [
      "conda 22.11.1\n",
      "Python 3.8.15\n"
     ]
    }
   ],
   "source": [
    "!conda --version\n",
    "!python --version"
   ]
  },
  {
   "cell_type": "code",
   "execution_count": null,
   "metadata": {
    "colab": {
     "base_uri": "https://localhost:8080/"
    },
    "id": "RMuJRdfH3dDq",
    "outputId": "7de88ae3-5511-46b8-ab51-5b8f4afbae2b"
   },
   "outputs": [
    {
     "name": "stdout",
     "output_type": "stream",
     "text": [
      "Collecting package metadata (current_repodata.json): - \b\b\\ \b\b| \b\b/ \b\b- \b\b\\ \b\b| \b\b/ \b\b- \b\b\\ \b\b| \b\b/ \b\b- \b\b\\ \b\b| \b\b/ \b\b- \b\b\\ \b\b| \b\b/ \b\b- \b\b\\ \b\b| \b\b/ \b\bdone\n",
      "Solving environment: \\ \b\b| \b\b/ \b\b- \b\b\\ \b\b| \b\b/ \b\b- \b\b\\ \b\b| \b\b/ \b\b- \b\b\\ \b\b| \b\b/ \b\b- \b\b\\ \b\b| \b\b/ \b\b- \b\b\\ \b\b| \b\b/ \b\b- \b\b\\ \b\b| \b\b/ \b\b- \b\b\\ \b\b| \b\b/ \b\b- \b\b\\ \b\b| \b\b/ \b\b- \b\b\\ \b\b| \b\b/ \b\b- \b\b\\ \b\b| \b\b/ \b\b- \b\b\\ \b\b| \b\b/ \b\b- \b\b\\ \b\b| \b\b/ \b\b- \b\b\\ \b\b| \b\b/ \b\b- \b\b\\ \b\b| \b\b/ \b\b- \b\b\\ \b\b| \b\b/ \b\b- \b\b\\ \n",
      "The environment is inconsistent, please check the package plan carefully\n",
      "The following packages are causing the inconsistency:\n",
      "\n",
      "  - conda-forge/linux-64::tbb==2021.7.0=h924138e_1\n",
      "  - conda-forge/linux-64::numpy==1.24.1=py38hab0fcb9_0\n",
      "  - conda-forge/linux-64::suitesparse==5.10.1=h9e50725_1\n",
      "  - conda-forge/linux-64::scipy==1.10.0=py38h10c12cc_0\n",
      "  - conda-forge/linux-64::libcblas==3.9.0=16_linux64_openblas\n",
      "  - conda-forge/linux-64::libopenblas==0.3.21=pthreads_h78a6416_3\n",
      "  - conda-forge/linux-64::pyfmi==2.9.8=py38h26c90d9_1\n",
      "  - conda-forge/linux-64::assimulo==3.3=py38h71f17ff_1\n",
      "  - conda-forge/linux-64::libblas==3.9.0=16_linux64_openblas\n",
      "  - conda-forge/linux-64::liblapack==3.9.0=16_linux64_openblas\n",
      "  - conda-forge/linux-64::libhwloc==2.8.0=h32351e8_1\n",
      "  - conda-forge/linux-64::fmilib==2.4.1=h27087fc_0\n",
      "  - conda-forge/linux-64::sundials==6.4.1=h89a52a3_0\n",
      "\b\b| \b\b/ \b\b- \b\b\\ \b\b| \b\b/ \b\b- \b\b\\ \b\b| \b\b/ \b\b- \b\b\\ \b\b| \b\b/ \b\b- \b\b\\ \b\b| \b\b/ \b\b- \b\b\\ \b\b| \b\b/ \b\b- \b\b\\ \b\b| \b\bdone\n",
      "\n",
      "## Package Plan ##\n",
      "\n",
      "  environment location: /usr/local\n",
      "\n",
      "  added / updated specs:\n",
      "    - pyfmi\n",
      "\n",
      "\n",
      "The following packages will be REMOVED:\n",
      "\n",
      "  libgomp-11.2.0-h1234567_1\n",
      "\n",
      "The following packages will be UPDATED:\n",
      "\n",
      "  ca-certificates    pkgs/main::ca-certificates-2022.10.11~ --> conda-forge::ca-certificates-2022.12.7-ha878542_0 \n",
      "  libgcc-ng          pkgs/main::libgcc-ng-11.2.0-h1234567_1 --> conda-forge::libgcc-ng-12.2.0-h65d4601_19 \n",
      "  libstdcxx-ng       pkgs/main::libstdcxx-ng-11.2.0-h12345~ --> conda-forge::libstdcxx-ng-12.2.0-h46fd767_19 \n",
      "  openssl              pkgs/main::openssl-1.1.1s-h7f8727e_0 --> conda-forge::openssl-1.1.1s-h0b41bf4_1 \n",
      "\n",
      "The following packages will be SUPERSEDED by a higher-priority channel:\n",
      "\n",
      "  _libgcc_mutex           pkgs/main::_libgcc_mutex-0.1-main --> conda-forge::_libgcc_mutex-0.1-conda_forge \n",
      "  _openmp_mutex          pkgs/main::_openmp_mutex-5.1-1_gnu --> conda-forge::_openmp_mutex-4.5-2_kmp_llvm \n",
      "  certifi            pkgs/main/linux-64::certifi-2022.12.7~ --> conda-forge/noarch::certifi-2022.12.7-pyhd8ed1ab_0 \n",
      "  conda              pkgs/main::conda-22.11.1-py38h06a4308~ --> conda-forge::conda-22.11.1-py38h578d9bd_1 \n",
      "\n",
      "\n",
      "\n",
      "Downloading and Extracting Packages\n",
      "\n",
      "Preparing transaction: - \b\bdone\n",
      "Verifying transaction: | \b\b/ \b\bdone\n",
      "Executing transaction: \\ \b\b| \b\b/ \b\b- \b\b\\ \b\b| \b\b/ \b\b- \b\b\\ \b\b| \b\b/ \b\b- \b\b\\ \b\bdone\n"
     ]
    }
   ],
   "source": [
    "!conda install -c conda-forge pyfmi --yes # Install the key package"
   ]
  },
  {
   "cell_type": "markdown",
   "metadata": {
    "id": "UTETJm3l6heL"
   },
   "source": [
    "# BPL_TEST2_Fedbatch setup\n"
   ]
  },
  {
   "cell_type": "markdown",
   "metadata": {
    "id": "mxILgQ103nZ6"
   },
   "source": [
    "Now specific installation and the run simulations. Start with connecting to Github. Then upload the two files:\n",
    "\n",
    "* FMU - BPL_TEST2_Fedbatch_linux_om_me.fmu\n",
    "* Setup-file - BPL_TEST2_Fedbatch_explore.me.py"
   ]
  },
  {
   "cell_type": "code",
   "execution_count": null,
   "metadata": {
    "colab": {
     "base_uri": "https://localhost:8080/"
    },
    "id": "RfWPh1B63yBF",
    "outputId": "91ac82a3-cbb4-45df-e194-d275b716e2cc"
   },
   "outputs": [
    {
     "name": "stderr",
     "output_type": "stream",
     "text": [
      "Cloning into 'BPL_TEST2_Fedbatch'...\n"
     ]
    }
   ],
   "source": [
    "%%bash \n",
    "git clone https://github.com/janpeter19/BPL_TEST2_Fedbatch"
   ]
  },
  {
   "cell_type": "code",
   "execution_count": null,
   "metadata": {
    "colab": {
     "base_uri": "https://localhost:8080/"
    },
    "id": "i6uOVB44300a",
    "outputId": "07d46fba-f29d-44e6-ff95-6ef19f9abe11"
   },
   "outputs": [
    {
     "name": "stdout",
     "output_type": "stream",
     "text": [
      "/content/BPL_TEST2_Fedbatch/BPL_TEST2_Fedbatch/BPL_TEST2_Fedbatch\n"
     ]
    }
   ],
   "source": [
    "%cd BPL_TEST2_Fedbatch"
   ]
  },
  {
   "cell_type": "code",
   "execution_count": 1,
   "metadata": {
    "colab": {
     "base_uri": "https://localhost:8080/",
     "height": 295
    },
    "id": "b-y82jZY33cO",
    "outputId": "9a0603fc-ef63-4deb-cc17-8bb4ac618c71"
   },
   "outputs": [
    {
     "name": "stdout",
     "output_type": "stream",
     "text": [
      "Linux - run FMU pre-comiled OpenModelica 1.21.0\n"
     ]
    },
    {
     "ename": "FMUException",
     "evalue": "Could not locate the FMU in the specified directory.",
     "output_type": "error",
     "traceback": [
      "\u001b[0;31m---------------------------------------------------------------------------\u001b[0m",
      "\u001b[0;31mFMUException\u001b[0m                              Traceback (most recent call last)",
      "File \u001b[0;32m/media/sf_Modelica/GitHub/Colab/BPL_TEST2_Fedbatch/BPL_TEST2_Fedbatch_explore_me.py:99\u001b[0m\n\u001b[1;32m     97\u001b[0m    \u001b[38;5;28;01mif\u001b[39;00m flag_type \u001b[38;5;129;01min\u001b[39;00m [\u001b[38;5;124m'\u001b[39m\u001b[38;5;124mME\u001b[39m\u001b[38;5;124m'\u001b[39m,\u001b[38;5;124m'\u001b[39m\u001b[38;5;124mme\u001b[39m\u001b[38;5;124m'\u001b[39m]:         \n\u001b[1;32m     98\u001b[0m       fmu_model \u001b[38;5;241m=\u001b[39m\u001b[38;5;124m'\u001b[39m\u001b[38;5;124mxBPL_TEST2_Fedbatch_linux_om_me.fmu\u001b[39m\u001b[38;5;124m'\u001b[39m    \n\u001b[0;32m---> 99\u001b[0m       model \u001b[38;5;241m=\u001b[39m \u001b[43mload_fmu\u001b[49m\u001b[43m(\u001b[49m\u001b[43mfmu_model\u001b[49m\u001b[43m,\u001b[49m\u001b[43m \u001b[49m\u001b[43mlog_level\u001b[49m\u001b[38;5;241;43m=\u001b[39;49m\u001b[38;5;241;43m0\u001b[39;49m\u001b[43m)\u001b[49m\n\u001b[1;32m    100\u001b[0m \u001b[38;5;28;01melse\u001b[39;00m:    \n\u001b[1;32m    101\u001b[0m    \u001b[38;5;28mprint\u001b[39m(\u001b[38;5;124m'\u001b[39m\u001b[38;5;124mThere is no FMU for this platform\u001b[39m\u001b[38;5;124m'\u001b[39m)\n",
      "File \u001b[0;32msrc/pyfmi/fmi.pyx:8589\u001b[0m, in \u001b[0;36mpyfmi.fmi.load_fmu\u001b[0;34m()\u001b[0m\n",
      "File \u001b[0;32msrc/pyfmi/fmi.pyx:8506\u001b[0m, in \u001b[0;36mpyfmi.fmi.check_fmu_args\u001b[0;34m()\u001b[0m\n",
      "\u001b[0;31mFMUException\u001b[0m: Could not locate the FMU in the specified directory."
     ]
    }
   ],
   "source": [
    "run -i BPL_TEST2_Fedbatch_explore_me.py"
   ]
  },
  {
   "cell_type": "code",
   "execution_count": 6,
   "metadata": {},
   "outputs": [
    {
     "name": "stdout",
     "output_type": "stream",
     "text": [
      "BPL_TEST2_Fedbatch_colab.ipynb\t   BPL_TEST2_Fedbatch_linux_jm_cs.fmu\r\n",
      "BPL_TEST2_Fedbatch_colab_me.ipynb  BPL_TEST2_Fedbatch_linux_om_me.fmu\r\n",
      "BPL_TEST2_Fedbatch_colab_me.pdf    BPL_TEST2_Fedbatch.pdf\r\n",
      "BPL_TEST2_Fedbatch_colab.pdf\t   BPL_TEST2_Fedbatch_windows_jm_cs.fmu\r\n",
      "BPL_TEST2_Fedbatch_explore_me.py   Fig1_BPL_TEST2_Fedbatch_nominal.png\r\n",
      "BPL_TEST2_Fedbatch_explore.py\t   LICENSE\r\n",
      "BPL_TEST2_Fedbatch.ipynb\t   README.md\r\n"
     ]
    }
   ],
   "source": [
    "!ls"
   ]
  },
  {
   "cell_type": "code",
   "execution_count": 2,
   "metadata": {
    "id": "HUFhuE-H4RCw"
   },
   "outputs": [],
   "source": [
    "%matplotlib inline\n",
    "plt.rcParams['figure.figsize'] = [25/2.54, 20/2.54]"
   ]
  },
  {
   "cell_type": "code",
   "execution_count": 3,
   "metadata": {
    "id": "cMO4OlAgJIlb"
   },
   "outputs": [],
   "source": [
    "import warnings\n",
    "warnings.filterwarnings(\"ignore\")"
   ]
  },
  {
   "cell_type": "markdown",
   "metadata": {
    "id": "dx9oMnP0RJkM"
   },
   "source": [
    "## BPL_TEST2_Fedbatch - demo\n",
    "\n"
   ]
  },
  {
   "cell_type": "code",
   "execution_count": 4,
   "metadata": {
    "colab": {
     "base_uri": "https://localhost:8080/"
    },
    "id": "-Y3NHWIj4TZ6",
    "outputId": "17c54672-d90c-4f79-8187-903bed55a560"
   },
   "outputs": [
    {
     "ename": "NameError",
     "evalue": "name 'describe' is not defined",
     "output_type": "error",
     "traceback": [
      "\u001b[0;31m---------------------------------------------------------------------------\u001b[0m",
      "\u001b[0;31mNameError\u001b[0m                                 Traceback (most recent call last)",
      "Cell \u001b[0;32mIn[4], line 1\u001b[0m\n\u001b[0;32m----> 1\u001b[0m \u001b[43mdescribe\u001b[49m(\u001b[38;5;124m'\u001b[39m\u001b[38;5;124mculture\u001b[39m\u001b[38;5;124m'\u001b[39m); \u001b[38;5;28mprint\u001b[39m(); \u001b[38;5;66;03m#describe('liquidphase')                                  # Pump schedule parameter \u001b[39;00m\n",
      "\u001b[0;31mNameError\u001b[0m: name 'describe' is not defined"
     ]
    }
   ],
   "source": [
    "describe('culture'); print(); #describe('liquidphase')                                  # Pump schedule parameter \n"
   ]
  },
  {
   "cell_type": "code",
   "execution_count": null,
   "metadata": {
    "colab": {
     "base_uri": "https://localhost:8080/",
     "height": 506
    },
    "id": "UeMOu19LJT6b",
    "outputId": "e17ae29c-0a2c-49b6-e36a-9dd8fee2ba76"
   },
   "outputs": [],
   "source": [
    "# Simulation with default values of the process\n",
    "newplot(plotType='TimeSeries')\n",
    "simu(20)"
   ]
  },
  {
   "cell_type": "code",
   "execution_count": null,
   "metadata": {
    "colab": {
     "base_uri": "https://localhost:8080/"
    },
    "id": "mtWJ3rfbJaVN",
    "outputId": "28863c09-d7d9-49fd-9bf6-fb9210d8ffaf"
   },
   "outputs": [],
   "source": [
    "disp(mode='long')"
   ]
  },
  {
   "cell_type": "code",
   "execution_count": null,
   "metadata": {
    "colab": {
     "base_uri": "https://localhost:8080/",
     "height": 506
    },
    "id": "0Bj8zdIMJiHr",
    "outputId": "f423c888-80dd-441e-ae51-7be9e274deef"
   },
   "outputs": [],
   "source": [
    "# A more typical feed scheme for the culture at hand\n",
    "newplot(plotType='TimeSeries')\n",
    "par(t_start=4, F_start=0.008, mu_feed=0.2, F_max=0.1)\n",
    "simu(20)"
   ]
  },
  {
   "cell_type": "code",
   "execution_count": null,
   "metadata": {
    "colab": {
     "base_uri": "https://localhost:8080/"
    },
    "id": "IOLRVcsFJ5NX",
    "outputId": "13c97714-f862-4d11-e57a-0a9d7913085b"
   },
   "outputs": [],
   "source": [
    "disp('culture')"
   ]
  },
  {
   "cell_type": "code",
   "execution_count": null,
   "metadata": {
    "colab": {
     "base_uri": "https://localhost:8080/"
    },
    "id": "yjcgKrvpJ96A",
    "outputId": "2df3adb1-fb43-43c4-c5a6-dbe5c875871c"
   },
   "outputs": [],
   "source": [
    "describe('mu')"
   ]
  },
  {
   "cell_type": "code",
   "execution_count": null,
   "metadata": {
    "colab": {
     "base_uri": "https://localhost:8080/"
    },
    "id": "sLF6NdXvKBY4",
    "outputId": "54c4a697-d728-4d4b-ace3-52d70ee2fc5a"
   },
   "outputs": [],
   "source": [
    "describe('parts')"
   ]
  },
  {
   "cell_type": "code",
   "execution_count": null,
   "metadata": {
    "colab": {
     "base_uri": "https://localhost:8080/"
    },
    "id": "cZKKtkydKHH-",
    "outputId": "80faf4fd-0987-4077-cbd2-67fd373b929b"
   },
   "outputs": [],
   "source": [
    "describe('MSL')"
   ]
  },
  {
   "cell_type": "code",
   "execution_count": null,
   "metadata": {
    "colab": {
     "base_uri": "https://localhost:8080/"
    },
    "id": "D7lCWmdiKNLm",
    "outputId": "76d953b5-5f82-46fb-9d60-0c803d921c64"
   },
   "outputs": [],
   "source": [
    "system_info()"
   ]
  },
  {
   "cell_type": "code",
   "execution_count": null,
   "metadata": {
    "id": "dZq5uQhvmaP4"
   },
   "outputs": [],
   "source": []
  }
 ],
 "metadata": {
  "colab": {
   "authorship_tag": "ABX9TyOqCLkzCzO7i2OjnNvQq2Sa",
   "include_colab_link": true,
   "provenance": []
  },
  "kernelspec": {
   "display_name": "Python 3 (ipykernel)",
   "language": "python",
   "name": "python3"
  },
  "language_info": {
   "codemirror_mode": {
    "name": "ipython",
    "version": 3
   },
   "file_extension": ".py",
   "mimetype": "text/x-python",
   "name": "python",
   "nbconvert_exporter": "python",
   "pygments_lexer": "ipython3",
   "version": "3.8.16"
  }
 },
 "nbformat": 4,
 "nbformat_minor": 1
}
