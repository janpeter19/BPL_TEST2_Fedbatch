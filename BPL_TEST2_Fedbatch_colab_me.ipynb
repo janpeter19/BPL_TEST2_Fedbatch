{
  "nbformat": 4,
  "nbformat_minor": 0,
  "metadata": {
    "colab": {
      "provenance": [],
      "authorship_tag": "ABX9TyOm1xhPPzUDbdydVJO0DW0r",
      "include_colab_link": true
    },
    "kernelspec": {
      "name": "python3",
      "display_name": "Python 3"
    },
    "language_info": {
      "name": "python"
    }
  },
  "cells": [
    {
      "cell_type": "markdown",
      "metadata": {
        "id": "view-in-github",
        "colab_type": "text"
      },
      "source": [
        "<a href=\"https://colab.research.google.com/github/janpeter19/BPL_CHO_Fedbatch/blob/main/BPL_TEST2_Fedbatch_colab_me.ipynb\" target=\"_parent\"><img src=\"https://colab.research.google.com/assets/colab-badge.svg\" alt=\"Open In Colab\"/></a>"
      ]
    },
    {
      "cell_type": "markdown",
      "source": [
        "# BPL_TEST2_Fedbatch script with PyFMI ver 2.9.8\n",
        "\n",
        "The key library PyFMI ver 2.9.8 is installed. \n",
        "\n",
        "After the installation a small application BPL_CHO_Fedbatch is loaded and run. You can continue with this example if you like."
      ],
      "metadata": {
        "id": "UFcMzs4Y3HwH"
      }
    },
    {
      "cell_type": "code",
      "execution_count": 59,
      "metadata": {
        "colab": {
          "base_uri": "https://localhost:8080/"
        },
        "id": "ID68dwep2zus",
        "outputId": "d2706625-ddb1-4084-d915-0202242e0e69"
      },
      "outputs": [
        {
          "output_type": "stream",
          "name": "stdout",
          "text": [
            "No LSB modules are available.\n",
            "Distributor ID:\tUbuntu\n",
            "Description:\tUbuntu 20.04.5 LTS\n",
            "Release:\t20.04\n",
            "Codename:\tfocal\n"
          ]
        }
      ],
      "source": [
        "!lsb_release -a # Actual VM Ubuntu version used by Google"
      ]
    },
    {
      "cell_type": "code",
      "source": [
        "%env PYTHONPATH="
      ],
      "metadata": {
        "colab": {
          "base_uri": "https://localhost:8080/"
        },
        "id": "pVDcSg-j3SSV",
        "outputId": "530bfc12-2368-400c-d1e2-8fabe1d281d3"
      },
      "execution_count": 60,
      "outputs": [
        {
          "output_type": "stream",
          "name": "stdout",
          "text": [
            "env: PYTHONPATH=\n"
          ]
        }
      ]
    },
    {
      "cell_type": "code",
      "source": [
        "!wget https://repo.anaconda.com/miniconda/Miniconda3-py38_22.11.1-1-Linux-x86_64.sh \n",
        "!chmod +x Miniconda3-py38_22.11.1-1-Linux-x86_64.sh\n",
        "!bash ./Miniconda3-py38_22.11.1-1-Linux-x86_64.sh -b -f -p /usr/local \n",
        "import sys \n",
        "sys.path.append('/usr/local/lib/python3.8/site-packages/')"
      ],
      "metadata": {
        "colab": {
          "base_uri": "https://localhost:8080/"
        },
        "id": "04VeBmLU3UFx",
        "outputId": "6d39ddbb-936c-4e33-d682-007f951f5916"
      },
      "execution_count": 61,
      "outputs": [
        {
          "output_type": "stream",
          "name": "stdout",
          "text": [
            "--2023-01-18 13:56:43--  https://repo.anaconda.com/miniconda/Miniconda3-py38_22.11.1-1-Linux-x86_64.sh\n",
            "Resolving repo.anaconda.com (repo.anaconda.com)... 104.16.131.3, 104.16.130.3, 2606:4700::6810:8203, ...\n",
            "Connecting to repo.anaconda.com (repo.anaconda.com)|104.16.131.3|:443... connected.\n",
            "HTTP request sent, awaiting response... 200 OK\n",
            "Length: 64630241 (62M) [application/x-sh]\n",
            "Saving to: ‘Miniconda3-py38_22.11.1-1-Linux-x86_64.sh’\n",
            "\n",
            "Miniconda3-py38_22. 100%[===================>]  61.64M   254MB/s    in 0.2s    \n",
            "\n",
            "2023-01-18 13:56:44 (254 MB/s) - ‘Miniconda3-py38_22.11.1-1-Linux-x86_64.sh’ saved [64630241/64630241]\n",
            "\n",
            "PREFIX=/usr/local\n",
            "Unpacking payload ...\n",
            "                                                                                     \n",
            "Installing base environment...\n",
            "\n",
            "\n",
            "Downloading and Extracting Packages\n",
            "\n",
            "\n",
            "Downloading and Extracting Packages\n",
            "\n",
            "Preparing transaction: - \b\bdone\n",
            "Executing transaction: | \b\b/ \b\bdone\n",
            "installation finished.\n"
          ]
        }
      ]
    },
    {
      "cell_type": "code",
      "source": [
        "!conda update -n base -c defaults conda --yes"
      ],
      "metadata": {
        "colab": {
          "base_uri": "https://localhost:8080/"
        },
        "id": "5iuP4_vl3WFA",
        "outputId": "1880766a-4b73-45c1-e893-3f0e0803e380"
      },
      "execution_count": 62,
      "outputs": [
        {
          "output_type": "stream",
          "name": "stdout",
          "text": [
            "Collecting package metadata (current_repodata.json): - \b\b\\ \b\b| \b\b/ \b\b- \b\b\\ \b\b| \b\bdone\n",
            "Solving environment: - \b\b\\ \b\b| \b\b/ \b\b- \b\b\\ \b\b| \b\b/ \b\b- \b\b\\ \b\b| \b\b/ \b\b- \b\b\\ \n",
            "The environment is inconsistent, please check the package plan carefully\n",
            "The following packages are causing the inconsistency:\n",
            "\n",
            "  - conda-forge/linux-64::liblapack==3.9.0=16_linux64_openblas\n",
            "  - conda-forge/linux-64::libhwloc==2.8.0=h32351e8_1\n",
            "  - conda-forge/linux-64::libopenblas==0.3.21=pthreads_h78a6416_3\n",
            "  - conda-forge/linux-64::numpy==1.24.1=py38hab0fcb9_0\n",
            "  - conda-forge/linux-64::libblas==3.9.0=16_linux64_openblas\n",
            "  - conda-forge/linux-64::tbb==2021.7.0=h924138e_1\n",
            "  - conda-forge/linux-64::libcblas==3.9.0=16_linux64_openblas\n",
            "  - conda-forge/linux-64::sundials==6.4.1=h89a52a3_0\n",
            "  - conda-forge/linux-64::suitesparse==5.10.1=h9e50725_1\n",
            "  - conda-forge/linux-64::pyfmi==2.9.8=py38h26c90d9_1\n",
            "  - conda-forge/linux-64::fmilib==2.4.1=h27087fc_0\n",
            "  - conda-forge/linux-64::assimulo==3.3=py38h71f17ff_1\n",
            "  - conda-forge/linux-64::scipy==1.10.0=py38h10c12cc_0\n",
            "\b\b| \b\b/ \b\b- \b\b\\ \b\b| \b\b/ \b\b- \b\b\\ \b\b| \b\b/ \b\b- \b\b\\ \b\bfailed with repodata from current_repodata.json, will retry with next repodata source.\n",
            "Solving environment: / \b\b- \b\b\\ \b\b| \b\b/ \b\b- \b\b\\ \b\b| \b\b/ \b\b- \b\b\\ \b\b| \b\b/ \b\b- \b\b\\ \b\b| \b\b/ \b\b- \b\b\\ \b\bfailed with repodata from current_repodata.json, will retry with next repodata source.\n",
            "Collecting package metadata (repodata.json): / \b\b- \b\b\\ \b\b| \b\b/ \b\b- \b\b\\ \b\b| \b\b/ \b\b- \b\b\\ \b\b| \b\b/ \b\b- \b\b\\ \b\b| \b\b/ \b\b- \b\b\\ \b\b| \b\b/ \b\b- \b\b\\ \b\b| \b\b/ \b\b- \b\b\\ \b\b| \b\b/ \b\b- \b\b\\ \b\b| \b\b/ \b\b- \b\b\\ \b\b| \b\b/ \b\b- \b\b\\ \b\b| \b\b/ \b\b- \b\b\\ \b\b| \b\b/ \b\b- \b\b\\ \b\b| \b\b/ \b\b- \b\b\\ \b\b| \b\b/ \b\b- \b\b\\ \b\b| \b\b/ \b\b- \b\b\\ \b\b| \b\b/ \b\b- \b\b\\ \b\bdone\n",
            "Solving environment: / \b\b- \b\b\\ \b\b| \b\b/ \b\b- \b\b\\ \b\b| \b\b/ \b\b- \b\b\\ \b\b| \b\b/ \b\b- \b\b\\ \b\b| \b\b/ \b\b- \b\b\\ \b\b| \b\b/ \b\b- \b\b\\ \b\b| \b\b/ \b\b- \b\b\\ \b\b| \b\b/ \b\b- \b\b\\ \b\b| \b\b/ \b\b- \b\b\\ \b\b| \b\b/ \b\b- \b\b\\ \b\b| \b\b/ \b\b- \b\b\\ \b\b| \b\b/ \b\b- \b\b\\ \b\b| \b\b/ \b\b- \b\b\\ \b\b| \b\b/ \b\b- \b\b\\ \b\b| \b\b/ \b\b- \b\b\\ \b\b| \b\b/ \b\b- \b\b\\ \b\b| \b\b/ \b\b- \b\b\\ \b\b| \b\b/ \b\b- \b\b\\ \b\b| \b\b/ \b\b- \b\b\\ \b\b| \b\b/ \b\b- \b\b\\ \b\b| \b\b/ \b\b- \b\b\\ \b\b| \b\b/ \b\b- \b\b\\ \b\b| \b\b/ \n",
            "The environment is inconsistent, please check the package plan carefully\n",
            "The following packages are causing the inconsistency:\n",
            "\n",
            "  - conda-forge/linux-64::liblapack==3.9.0=16_linux64_openblas\n",
            "  - conda-forge/linux-64::libhwloc==2.8.0=h32351e8_1\n",
            "  - conda-forge/linux-64::libopenblas==0.3.21=pthreads_h78a6416_3\n",
            "  - conda-forge/linux-64::numpy==1.24.1=py38hab0fcb9_0\n",
            "  - conda-forge/linux-64::libblas==3.9.0=16_linux64_openblas\n",
            "  - conda-forge/linux-64::tbb==2021.7.0=h924138e_1\n",
            "  - conda-forge/linux-64::libcblas==3.9.0=16_linux64_openblas\n",
            "  - conda-forge/linux-64::sundials==6.4.1=h89a52a3_0\n",
            "  - conda-forge/linux-64::suitesparse==5.10.1=h9e50725_1\n",
            "  - conda-forge/linux-64::pyfmi==2.9.8=py38h26c90d9_1\n",
            "  - conda-forge/linux-64::fmilib==2.4.1=h27087fc_0\n",
            "  - conda-forge/linux-64::assimulo==3.3=py38h71f17ff_1\n",
            "  - conda-forge/linux-64::scipy==1.10.0=py38h10c12cc_0\n",
            "\b\b- \b\b\\ \b\b| \b\b/ \b\b- \b\b\\ \b\b| \b\b/ \b\b- \b\b\\ \b\b| \b\b/ \b\b- \b\b\\ \b\b| \b\b/ \b\b- \b\b\\ \b\b| \b\b/ \b\b- \b\b\\ \b\b| \b\b/ \b\b- \b\b\\ \b\b| \b\b/ \b\b- \b\b\\ \b\b| \b\b/ \b\b- \b\b\\ \b\b| \b\b/ \b\b- \b\b\\ \b\b| \b\b/ \b\b- \b\b\\ \b\b| \b\b/ \b\b- \b\b\\ \b\b| \b\b/ \b\b- \b\b\\ \b\b| \b\b/ \b\b- \b\b\\ \b\b| \b\b/ \b\b- \b\b\\ \b\b| \b\b/ \b\b- \b\b\\ \b\b| \b\b/ \b\b- \b\b\\ \b\b| \b\b/ \b\b- \b\b\\ \b\b| \b\b/ \b\b- \b\b\\ \b\b| \b\b/ \b\b- \b\b\\ \b\b| \b\b/ \b\b- \b\b\\ \b\b| \b\b/ \b\b- \b\b\\ \b\b| \b\b/ \b\b- \b\b\\ \b\b| \b\b/ \b\b- \b\b\\ \b\b| \b\b/ \b\b- \b\b\\ \b\b| \b\b/ \b\b- \b\b\\ \b\b| \b\b/ \b\b- \b\b\\ \b\b| \b\b/ \b\b- \b\b\\ \b\b| \b\b/ \b\b- \b\b\\ \b\b| \b\b/ \b\bfailed\n",
            "Solving environment: \\ \b\b| \b\b/ \b\b- \b\b\\ \b\b| \b\b/ \b\b- \b\b\\ \b\b| \b\b/ \b\b- \b\b\\ \b\b| \b\b/ \b\b- \b\b\\ \b\b| \b\b/ \b\b- \b\b\\ \b\b| \b\b/ \b\b- \b\b\\ \b\b| \b\b/ \b\b- \b\b\\ \b\b| \b\b/ \b\b- \b\b\\ \b\b| \b\b/ \b\b- \b\b\\ \b\b| \b\b/ \b\b- \b\b\\ \b\b| \b\b/ \b\b- \b\b\\ \b\b| \b\b/ \b\b- \b\b\\ \b\b| \b\b/ \b\b- \b\b\\ \b\b| \b\b/ \b\b- \b\b\\ \b\b| \b\b/ \b\b- \b\b\\ \b\b| \b\b/ \b\b- \b\b\\ \b\b| \b\b/ \b\b- \b\b\\ \b\b| \b\b/ \b\b- \b\b\\ \b\b| \b\b/ \b\b- \b\b\\ \b\b| \b\b/ \b\b- \b\b\\ \b\b| \b\b/ \b\b- \b\b\\ \b\b| \b\b/ \b\b- \b\b\\ \b\b| \b\b/ \b\b- \b\b\\ \b\b| \b\b/ \b\b- \b\b\\ \b\b| \b\b/ \b\b- \b\b\\ \b\b| \b\b/ \b\b- \b\b\\ \b\b| \b\b/ \b\b- \b\b\\ \b\b| \b\b/ \b\b- \b\b\\ \b\b| \b\b/ \b\b- \b\b\\ \b\b| \b\b/ \b\b- \b\b\\ \b\b| \b\b/ \b\b- \b\b\\ \b\b| \b\b/ \b\b- \b\b\\ \b\b| \b\b/ \b\b- \b\b\\ \b\b| \b\b/ \b\b- \b\b\\ \b\b| \b\b/ \b\b- \b\b\\ \b\b| \b\b/ \b\b- \b\b\\ \b\b| \b\b/ \b\b- \b\b\\ \b\b| \b\b/ \b\b- \b\b\\ \b\b| \b\b/ \b\b- \b\b\\ \b\b| \b\b/ \b\b- \n",
            "Found conflicts! Looking for incompatible packages.\n",
            "This can take several minutes.  Press CTRL-C to abort.\n",
            "\b\b- \b\bfailed\n",
            "\n",
            "UnsatisfiableError: The following specifications were found\n",
            "to be incompatible with the existing python installation in your environment:\n",
            "\n",
            "Specifications:\n",
            "\n",
            "  - conda-content-trust -> python[version='>=2.7,<2.8.0a0|>=3.6,<3.7.0a0|>=3.5,<3.6.0a0']\n",
            "  - wheel -> python[version='>=3.10,<3.11.0a0|>=3.9,<3.10.0a0|>=3.11,<3.12.0a0']\n",
            "\n",
            "Your python: python=3.8\n",
            "\n",
            "If python is on the left-most side of the chain, that's the version you've asked for.\n",
            "When python appears to the right, that indicates that the thing on the left is somehow\n",
            "not available for the python version you are constrained to. Note that conda will not\n",
            "change your python version to a different minor version unless you explicitly specify\n",
            "that.\n",
            "\n",
            "The following specifications were found to be incompatible with a past\n",
            "explicit spec that is not an explicit spec in this operation (pip):\n",
            "\n",
            "  - conda -> python[version='>=3.9,<3.10.0a0'] -> pip\n",
            "  - conda -> ruamel.yaml[version='>=0.11.14,<0.18'] -> setuptools\n",
            "  - conda -> setuptools[version='>=31.0.1']\n",
            "\n",
            "The following specifications were found to be incompatible with each other:\n",
            "\n",
            "Output in format: Requested package -> Available versions\n",
            "\n",
            "Package openssl conflicts for:\n",
            "certifi -> python[version='>=3.9,<3.10.0a0'] -> openssl[version='1.0.*|>=1.0.2m,<1.0.3a|>=1.0.2n,<1.0.3a|>=1.0.2o,<1.0.3a|>=1.0.2p,<1.0.3a|>=1.1.1a,<1.1.2a|>=1.1.1b,<1.1.2a|>=1.1.1c,<1.1.2a|>=1.1.1d,<1.1.2a|>=1.1.1e,<1.1.2a|>=1.1.1g,<1.1.2a|>=1.1.1h,<1.1.2a|>=1.1.1i,<1.1.2a|>=1.1.1j,<1.1.2a|>=1.1.1k,<1.1.2a|>=1.1.1l,<1.1.2a|>=1.1.1n,<1.1.2a|>=1.1.1o,<1.1.2a|>=1.1.1q,<1.1.2a|>=1.1.1s,<1.1.2a|>=1.1.1m,<1.1.2a|>=1.0.2l,<1.0.3a']\n",
            "conda[version='>=22.11.1'] -> python[version='>=3.9,<3.10.0a0'] -> openssl[version='>=1.0.2o,<1.0.3a|>=1.0.2p,<1.0.3a|>=1.1.1a,<1.1.2a|>=1.1.1b,<1.1.2a|>=1.1.1c,<1.1.2a|>=1.1.1d,<1.1.2a|>=1.1.1e,<1.1.2a|>=1.1.1g,<1.1.2a|>=1.1.1h,<1.1.2a|>=1.1.1i,<1.1.2a|>=1.1.1j,<1.1.2a|>=1.1.1k,<1.1.2a|>=1.1.1l,<1.1.2a|>=1.1.1n,<1.1.2a|>=1.1.1o,<1.1.2a|>=1.1.1q,<1.1.2a|>=1.1.1s,<1.1.2a|>=1.1.1m,<1.1.2a']\n",
            "pyfmi -> python[version='>=3.8,<3.9.0a0'] -> openssl[version='>=1.1.1d,<1.1.2a|>=1.1.1e,<1.1.2a|>=1.1.1g,<1.1.2a|>=1.1.1j,<1.1.2a|>=1.1.1k,<1.1.2a|>=1.1.1l,<1.1.2a|>=1.1.1n,<1.1.2a|>=1.1.1q,<1.1.2a|>=1.1.1s,<1.1.2a']\n",
            "pip -> python[version='>=3.8,<3.9.0a0'] -> openssl[version='1.0.*|>=1.0.2m,<1.0.3a|>=1.0.2n,<1.0.3a|>=1.0.2o,<1.0.3a|>=1.0.2p,<1.0.3a|>=1.1.1a,<1.1.2a|>=1.1.1b,<1.1.2a|>=1.1.1c,<1.1.2a|>=1.1.1d,<1.1.2a|>=1.1.1e,<1.1.2a|>=1.1.1g,<1.1.2a|>=1.1.1j,<1.1.2a|>=1.1.1k,<1.1.2a|>=1.1.1l,<1.1.2a|>=1.1.1n,<1.1.2a|>=1.1.1q,<1.1.2a|>=1.1.1s,<1.1.2a|>=1.1.1m,<1.1.2a|>=1.1.1o,<1.1.2a|>=1.1.1i,<1.1.2a|>=1.1.1h,<1.1.2a|>=1.0.2l,<1.0.3a']\n",
            "scipy -> python[version='>=3.9,<3.10.0a0'] -> openssl[version='1.0.*|>=1.0.2m,<1.0.3a|>=1.0.2n,<1.0.3a|>=1.0.2o,<1.0.3a|>=1.0.2p,<1.0.3a|>=1.1.1a,<1.1.2a|>=1.1.1b,<1.1.2a|>=1.1.1c,<1.1.2a|>=1.1.1d,<1.1.2a|>=1.1.1e,<1.1.2a|>=1.1.1g,<1.1.2a|>=1.1.1h,<1.1.2a|>=1.1.1i,<1.1.2a|>=1.1.1j,<1.1.2a|>=1.1.1k,<1.1.2a|>=1.1.1l,<1.1.2a|>=1.1.1n,<1.1.2a|>=1.1.1o,<1.1.2a|>=1.1.1q,<1.1.2a|>=1.1.1s,<1.1.2a|>=1.1.1m,<1.1.2a|>=1.0.2l,<1.0.3a']\n",
            "python=3.8 -> openssl[version='>=1.1.1d,<1.1.2a|>=1.1.1e,<1.1.2a|>=1.1.1g,<1.1.2a|>=1.1.1j,<1.1.2a|>=1.1.1k,<1.1.2a|>=1.1.1l,<1.1.2a|>=1.1.1n,<1.1.2a|>=1.1.1q,<1.1.2a|>=1.1.1s,<1.1.2a']\n",
            "assimulo -> python[version='>=3.8,<3.9.0a0'] -> openssl[version='>=1.1.1d,<1.1.2a|>=1.1.1e,<1.1.2a|>=1.1.1g,<1.1.2a|>=1.1.1j,<1.1.2a|>=1.1.1k,<1.1.2a|>=1.1.1l,<1.1.2a|>=1.1.1n,<1.1.2a|>=1.1.1q,<1.1.2a|>=1.1.1s,<1.1.2a']\n",
            "wheel -> python -> openssl[version='1.0.*|>=1.0.2m,<1.0.3a|>=1.0.2n,<1.0.3a|>=1.0.2o,<1.0.3a|>=1.0.2p,<1.0.3a|>=1.1.1a,<1.1.2a|>=1.1.1b,<1.1.2a|>=1.1.1c,<1.1.2a|>=1.1.1d,<1.1.2a|>=1.1.1e,<1.1.2a|>=1.1.1g,<1.1.2a|>=1.1.1h,<1.1.2a|>=1.1.1i,<1.1.2a|>=1.1.1j,<1.1.2a|>=1.1.1k,<1.1.2a|>=1.1.1l,<1.1.2a|>=1.1.1m,<1.1.2a|>=1.1.1n,<1.1.2a|>=1.1.1q,<1.1.2a|>=1.1.1s,<1.1.2a|>=1.1.1o,<1.1.2a|>=1.0.2l,<1.0.3a']\n",
            "numpy -> python[version='>=3.9,<3.10.0a0'] -> openssl[version='1.0.*|>=1.0.2m,<1.0.3a|>=1.0.2n,<1.0.3a|>=1.0.2o,<1.0.3a|>=1.0.2p,<1.0.3a|>=1.1.1a,<1.1.2a|>=1.1.1b,<1.1.2a|>=1.1.1c,<1.1.2a|>=1.1.1d,<1.1.2a|>=1.1.1e,<1.1.2a|>=1.1.1g,<1.1.2a|>=1.1.1h,<1.1.2a|>=1.1.1i,<1.1.2a|>=1.1.1j,<1.1.2a|>=1.1.1k,<1.1.2a|>=1.1.1l,<1.1.2a|>=1.1.1n,<1.1.2a|>=1.1.1o,<1.1.2a|>=1.1.1q,<1.1.2a|>=1.1.1s,<1.1.2a|>=1.1.1m,<1.1.2a|>=1.0.2l,<1.0.3a']\n",
            "setuptools -> python[version='>=3.10,<3.11.0a0'] -> openssl[version='1.0.*|>=1.0.2m,<1.0.3a|>=1.0.2n,<1.0.3a|>=1.0.2o,<1.0.3a|>=1.0.2p,<1.0.3a|>=1.1.1a,<1.1.2a|>=1.1.1b,<1.1.2a|>=1.1.1c,<1.1.2a|>=1.1.1d,<1.1.2a|>=1.1.1e,<1.1.2a|>=1.1.1g,<1.1.2a|>=1.1.1h,<1.1.2a|>=1.1.1i,<1.1.2a|>=1.1.1j,<1.1.2a|>=1.1.1k,<1.1.2a|>=1.1.1l,<1.1.2a|>=1.1.1m,<1.1.2a|>=1.1.1n,<1.1.2a|>=1.1.1q,<1.1.2a|>=1.1.1s,<1.1.2a|>=1.1.1o,<1.1.2a|>=1.0.2l,<1.0.3a']\n",
            "conda-content-trust -> cryptography -> openssl[version='1.0.*|>=1.0.2o,<1.0.3a|>=1.0.2p,<1.0.3a|>=1.1.1a,<1.1.2a|>=1.1.1b,<1.1.2a|>=1.1.1c,<1.1.2a|>=1.1.1d,<1.1.2a|>=1.1.1g,<1.1.2a|>=1.1.1h,<1.1.2a|>=1.1.1i,<1.1.2a|>=1.1.1j,<1.1.2a|>=1.1.1k,<1.1.2a|>=1.1.1l,<1.1.2a|>=1.0.2n,<1.0.3a|>=1.0.2m,<1.0.3a|>=1.1.1s,<1.1.2a|>=1.1.1q,<1.1.2a|>=1.1.1n,<1.1.2a|>=1.1.1e,<1.1.2a|>=1.1.1o,<1.1.2a|>=1.1.1m,<1.1.2a|>=1.0.2l,<1.0.3a']\n",
            "conda -> python[version='>=3.9,<3.10.0a0'] -> openssl[version='1.0.*|>=1.0.2m,<1.0.3a|>=1.0.2n,<1.0.3a|>=1.0.2o,<1.0.3a|>=1.0.2p,<1.0.3a|>=1.1.1a,<1.1.2a|>=1.1.1b,<1.1.2a|>=1.1.1c,<1.1.2a|>=1.1.1d,<1.1.2a|>=1.1.1e,<1.1.2a|>=1.1.1g,<1.1.2a|>=1.1.1h,<1.1.2a|>=1.1.1i,<1.1.2a|>=1.1.1j,<1.1.2a|>=1.1.1k,<1.1.2a|>=1.1.1l,<1.1.2a|>=1.1.1n,<1.1.2a|>=1.1.1o,<1.1.2a|>=1.1.1q,<1.1.2a|>=1.1.1s,<1.1.2a|>=1.1.1m,<1.1.2a|>=1.0.2l,<1.0.3a']\n",
            "\n",
            "Package libgcc-ng conflicts for:\n",
            "sundials -> suitesparse[version='>=5.10.1,<6.0a0'] -> libgcc-ng[version='>=11.2.0|>=7.5.0|>=9.4.0']\n",
            "conda-content-trust -> cryptography -> libgcc-ng[version='>=11.2.0|>=7.2.0|>=7.3.0|>=7.5.0']\n",
            "conda[version='>=22.11.1'] -> conda-package-handling[version='>=1.3.0'] -> libgcc-ng[version='>=11.2.0|>=7.5.0|>=7.3.0|>=7.2.0']\n",
            "tbb -> libgcc-ng[version='>=11.2.0|>=7.5.0|>=7.3.0|>=7.2.0|>=12']\n",
            "numpy -> libopenblas[version='>=0.3.2,<0.3.3.0a0'] -> libgcc-ng[version='>=8.2.0']\n",
            "conda -> conda-package-handling[version='>=1.3.0'] -> libgcc-ng[version='>=11.2.0|>=7.5.0|>=7.3.0|>=7.2.0']\n",
            "wheel -> python -> libgcc-ng[version='>=11.2.0|>=7.5.0|>=7.3.0|>=7.2.0']\n",
            "pyfmi -> lxml -> libgcc-ng[version='>=11.2.0|>=7.5.0|>=7.3.0|>=7.2.0']\n",
            "suitesparse -> libgcc-ng[version='>=11.2.0|>=7.5.0|>=7.3.0|>=7.2.0|>=9.4.0']\n",
            "pip -> python[version='>=3.8,<3.9.0a0'] -> libgcc-ng[version='>=11.2.0|>=7.5.0|>=7.3.0|>=7.2.0']\n",
            "setuptools -> python[version='>=3.10,<3.11.0a0'] -> libgcc-ng[version='>=11.2.0|>=7.5.0|>=7.3.0|>=7.2.0']\n",
            "openssl -> libgcc-ng[version='>=11.2.0|>=7.5.0|>=7.3.0|>=7.2.0']\n",
            "libhwloc -> libxml2[version='>=2.9.14,<2.11.0a0'] -> libgcc-ng[version='>=7.5.0']\n",
            "python=3.8 -> zlib[version='>=1.2.11,<1.3.0a0'] -> libgcc-ng[version='>=7.2.0']\n",
            "numpy -> libgcc-ng[version='>=11.2.0|>=7.5.0|>=7.3.0|>=7.2.0|>=12']\n",
            "suitesparse -> tbb[version='>=2020.3'] -> libgcc-ng[version='>=12']\n",
            "libopenblas -> libgcc-ng[version='>=11.2.0|>=7.5.0|>=7.3.0|>=8.2.0|>=7.2.0|>=12']\n",
            "pyfmi -> libgcc-ng[version='>=12']\n",
            "assimulo -> libgcc-ng[version='>=12']\n",
            "certifi -> python[version='>=3.9,<3.10.0a0'] -> libgcc-ng[version='>=11.2.0|>=7.5.0|>=7.3.0|>=7.2.0']\n",
            "sundials -> libgcc-ng[version='>=12']\n",
            "libblas -> libopenblas[version='>=0.3.21,<0.3.22.0a0'] -> libgcc-ng[version='>=11.2.0|>=12']\n",
            "python=3.8 -> libgcc-ng[version='>=11.2.0|>=7.5.0|>=7.3.0']\n",
            "assimulo -> numpy[version='>=1.20.3,<2.0a0'] -> libgcc-ng[version='>=11.2.0|>=7.5.0|>=7.3.0|>=7.2.0']\n",
            "scipy -> libopenblas[version='>=0.3.2,<0.3.3.0a0'] -> libgcc-ng[version='>=8.2.0']\n",
            "libhwloc -> libgcc-ng[version='>=12']\n",
            "fmilib -> libgcc-ng[version='>=12']\n",
            "scipy -> libgcc-ng[version='>=11.2.0|>=7.5.0|>=7.3.0|>=7.2.0|>=12']\n",
            "\n",
            "Package libstdcxx-ng conflicts for:\n",
            "numpy -> mkl_fft -> libstdcxx-ng[version='>=7.2.0|>=7.3.0']\n",
            "python=3.8 -> libstdcxx-ng[version='>=11.2.0|>=7.5.0|>=7.3.0']\n",
            "libhwloc -> libstdcxx-ng[version='>=12']\n",
            "pip -> python[version='>=3.8,<3.9.0a0'] -> libstdcxx-ng[version='>=11.2.0|>=7.5.0|>=7.3.0|>=7.2.0']\n",
            "numpy -> libstdcxx-ng[version='>=11.2.0|>=7.5.0|>=12']\n",
            "libblas -> libopenblas[version='>=0.3.21,<0.3.22.0a0'] -> libstdcxx-ng[version='>=11.2.0']\n",
            "suitesparse -> libstdcxx-ng[version='>=11.2.0|>=7.5.0|>=7.3.0|>=7.2.0|>=9.4.0']\n",
            "sundials -> suitesparse[version='>=5.10.1,<6.0a0'] -> libstdcxx-ng[version='>=11.2.0|>=7.5.0|>=9.4.0']\n",
            "libopenblas -> libstdcxx-ng[version='>=11.2.0|>=7.5.0']\n",
            "scipy -> libstdcxx-ng[version='>=11.2.0|>=7.5.0|>=7.3.0|>=7.2.0|>=12']\n",
            "python=3.8 -> libffi[version='>=3.2.1,<3.3a0'] -> libstdcxx-ng[version='>=7.2.0']\n",
            "suitesparse -> tbb[version='>=2020.3'] -> libstdcxx-ng[version='>=12']\n",
            "conda -> python[version='>=3.9,<3.10.0a0'] -> libstdcxx-ng[version='>=11.2.0|>=7.5.0|>=7.3.0|>=7.2.0']\n",
            "pyfmi -> fmilib[version='>=2.4.1,<2.5.0a0'] -> libstdcxx-ng[version='>=11.2.0|>=12|>=7.5.0|>=7.3.0|>=7.2.0']\n",
            "assimulo -> numpy[version='>=1.20.3,<2.0a0'] -> libstdcxx-ng[version='>=11.2.0|>=7.5.0|>=12|>=7.3.0|>=7.2.0']\n",
            "conda[version='>=22.11.1'] -> python[version='>=3.9,<3.10.0a0'] -> libstdcxx-ng[version='>=11.2.0|>=7.5.0|>=7.3.0|>=7.2.0']\n",
            "certifi -> python[version='>=3.9,<3.10.0a0'] -> libstdcxx-ng[version='>=11.2.0|>=7.5.0|>=7.3.0|>=7.2.0']\n",
            "tbb -> libstdcxx-ng[version='>=11.2.0|>=7.5.0|>=7.3.0|>=7.2.0|>=12']\n",
            "wheel -> python -> libstdcxx-ng[version='>=11.2.0|>=7.5.0|>=7.3.0|>=7.2.0']\n",
            "conda-content-trust -> python[version='>=3.7,<3.8.0a0'] -> libstdcxx-ng[version='>=11.2.0|>=7.2.0|>=7.3.0|>=7.5.0']\n",
            "fmilib -> libstdcxx-ng[version='>=12']\n",
            "sundials -> libstdcxx-ng[version='>=12']\n",
            "setuptools -> python[version='>=3.9,<3.10.0a0'] -> libstdcxx-ng[version='>=11.2.0|>=7.5.0|>=7.3.0|>=7.2.0']\n",
            "\n",
            "Package _openmp_mutex conflicts for:\n",
            "libopenblas -> libgcc-ng[version='>=11.2.0'] -> _openmp_mutex[version='>=4.5']\n",
            "numpy -> libgcc-ng[version='>=11.2.0'] -> _openmp_mutex[version='>=4.5']\n",
            "scipy -> libgcc-ng[version='>=11.2.0'] -> _openmp_mutex[version='>=4.5']\n",
            "openssl -> libgcc-ng[version='>=7.5.0'] -> _openmp_mutex[version='>=4.5']\n",
            "tbb -> libgcc-ng[version='>=11.2.0'] -> _openmp_mutex[version='>=4.5']\n",
            "python=3.8 -> libgcc-ng[version='>=11.2.0'] -> _openmp_mutex[version='>=4.5']\n",
            "suitesparse -> libgcc-ng[version='>=11.2.0'] -> _openmp_mutex[version='>=4.5']\n",
            "\n",
            "Package liblapack conflicts for:\n",
            "sundials -> suitesparse[version='>=5.10.1,<6.0a0'] -> liblapack[version='>=3.8.0,<4.0a0']\n",
            "pyfmi -> assimulo[version='>=3.0'] -> liblapack[version='>=3.9.0,<4.0a0']\n",
            "scipy -> liblapack[version='>=3.9.0,<4.0a0']\n",
            "sundials -> liblapack[version='>=3.9.0,<4.0a0']\n",
            "numpy -> liblapack[version='>=3.9.0,<4.0a0']\n",
            "suitesparse -> liblapack[version='>=3.8.0,<4.0a0']\n",
            "assimulo -> liblapack[version='>=3.9.0,<4.0a0']\n",
            "\n",
            "Package libblas conflicts for:\n",
            "assimulo -> liblapack[version='>=3.9.0,<4.0a0'] -> libblas==3.9.0=16_linux64_openblas\n",
            "liblapack -> libblas==3.9.0=16_linux64_openblas\n",
            "sundials -> libblas[version='>=3.9.0,<4.0a0']\n",
            "sundials -> liblapack[version='>=3.9.0,<4.0a0'] -> libblas[version='3.9.0|>=3.8.0,<4.0a0',build=16_linux64_openblas]\n",
            "numpy -> libblas[version='>=3.9.0,<4.0a0']\n",
            "scipy -> libcblas[version='>=3.9.0,<4.0a0'] -> libblas==3.9.0=16_linux64_openblas\n",
            "pyfmi -> assimulo[version='>=3.0'] -> libblas[version='>=3.9.0,<4.0a0']\n",
            "suitesparse -> libblas[version='>=3.8.0,<4.0a0']\n",
            "libcblas -> libblas==3.9.0=16_linux64_openblas\n",
            "assimulo -> libblas[version='>=3.9.0,<4.0a0']\n",
            "numpy -> libcblas[version='>=3.9.0,<4.0a0'] -> libblas==3.9.0=16_linux64_openblas\n",
            "suitesparse -> libcblas[version='>=3.8.0,<4.0a0'] -> libblas==3.9.0=16_linux64_openblas\n",
            "scipy -> libblas[version='>=3.9.0,<4.0a0']\n",
            "\n",
            "Package cryptography conflicts for:\n",
            "conda -> pyopenssl[version='>=16.2.0'] -> cryptography[version='>=1.9|>=2.1.4|>=2.2.1|>=2.8|>=3.3|>=35.0']\n",
            "conda[version='>=22.11.1'] -> pyopenssl[version='>=16.2.0'] -> cryptography[version='>=1.9|>=2.1.4|>=2.2.1|>=2.8|>=3.3|>=35.0']\n",
            "conda-content-trust -> cryptography\n",
            "\n",
            "Package libopenblas conflicts for:\n",
            "scipy -> libblas[version='>=3.9.0,<4.0a0'] -> libopenblas[version='>=0.3.21,<0.3.22.0a0']\n",
            "pyfmi -> numpy[version='>=1.20.3,<2.0a0'] -> libopenblas[version='>=0.2.20,<0.2.21.0a0|>=0.3.2,<0.3.3.0a0|>=0.3.20,<1.0a0|>=0.3.3,<1.0a0|>=0.3.21,<1.0a0']\n",
            "liblapack -> libblas==3.9.0=16_linux64_openblas -> libopenblas[version='>=0.3.21,<0.3.22.0a0|>=0.3.21,<1.0a0']\n",
            "suitesparse -> libopenblas[version='>=0.2.20,<0.2.21.0a0|>=0.3.20,<1.0a0|>=0.3.3,<1.0a0']\n",
            "scipy -> libopenblas[version='>=0.2.20,<0.2.21.0a0|>=0.3.2,<0.3.3.0a0|>=0.3.20,<1.0a0|>=0.3.21,<1.0a0|>=0.3.3,<1.0a0']\n",
            "numpy -> libopenblas[version='>=0.2.20,<0.2.21.0a0|>=0.3.2,<0.3.3.0a0|>=0.3.20,<1.0a0|>=0.3.3,<1.0a0']\n",
            "numpy -> libblas[version='>=3.9.0,<4.0a0'] -> libopenblas[version='>=0.3.21,<0.3.22.0a0|>=0.3.21,<1.0a0']\n",
            "libcblas -> libblas==3.9.0=16_linux64_openblas -> libopenblas[version='>=0.3.21,<0.3.22.0a0|>=0.3.21,<1.0a0']\n",
            "sundials -> libblas[version='>=3.9.0,<4.0a0'] -> libopenblas[version='>=0.3.20,<1.0a0|>=0.3.21,<0.3.22.0a0|>=0.3.21,<1.0a0|>=0.3.3,<1.0a0']\n",
            "libblas -> libopenblas[version='>=0.3.21,<0.3.22.0a0|>=0.3.21,<1.0a0']\n",
            "assimulo -> libblas[version='>=3.9.0,<4.0a0'] -> libopenblas[version='>=0.2.20,<0.2.21.0a0|>=0.3.2,<0.3.3.0a0|>=0.3.20,<1.0a0|>=0.3.21,<0.3.22.0a0|>=0.3.21,<1.0a0|>=0.3.3,<1.0a0']\n",
            "suitesparse -> libblas[version='>=3.8.0,<4.0a0'] -> libopenblas[version='>=0.3.21,<0.3.22.0a0|>=0.3.21,<1.0a0']\n",
            "\n",
            "Package libgfortran5 conflicts for:\n",
            "numpy -> libgfortran5[version='>=11.2.0']\n",
            "pyfmi -> assimulo[version='>=3.0'] -> libgfortran5[version='>=10.4.0|>=11.2.0|>=11.3.0']\n",
            "scipy -> libgfortran-ng -> libgfortran5[version='11.2.0.*|9.3.0.*|8.4.0.*|12.2.0|>=10.4.0',build=h337968e_19]\n",
            "libopenblas -> libgfortran5[version='>=10.4.0|>=11.2.0']\n",
            "numpy -> libopenblas[version='>=0.3.20,<1.0a0'] -> libgfortran5[version='11.2.0.*|>=10.4.0|9.3.0.*|8.4.0.*|12.2.0',build=h337968e_19]\n",
            "scipy -> libgfortran5[version='>=11.2.0|>=11.3.0']\n",
            "libopenblas -> libgfortran-ng -> libgfortran5[version='11.2.0.*|9.3.0.*|8.4.0.*|12.2.0',build=h337968e_19]\n",
            "assimulo -> libgfortran5[version='>=10.4.0']\n",
            "suitesparse -> libopenblas[version='>=0.3.20,<1.0a0'] -> libgfortran5[version='>=10.4.0|>=11.2.0']\n",
            "libblas -> libopenblas[version='>=0.3.21,<0.3.22.0a0'] -> libgfortran5[version='>=10.4.0|>=11.2.0']\n",
            "assimulo -> libgfortran-ng -> libgfortran5[version='11.2.0.*|9.3.0.*|8.4.0.*|12.2.0|>=11.2.0|>=11.3.0',build=h337968e_19]\n",
            "\n",
            "Package blas conflicts for:\n",
            "sundials -> suitesparse[version='>=5.10.1,<6.0a0'] -> blas[version='*|1.0',build='openblas|mkl']\n",
            "scipy -> blas[version='*|*|1.0|1.0',build='openblas|openblas|mkl|mkl']\n",
            "numpy -> blas[version='*|*|1.0|1.0',build='openblas|openblas|mkl|mkl']\n",
            "pyfmi -> numpy[version='>=1.20.3,<2.0a0'] -> blas[version='*|*|1.0|1.0',build='openblas|openblas|mkl|mkl']\n",
            "suitesparse -> blas[version='*|1.0|1.0',build='openblas|openblas|mkl']\n",
            "assimulo -> numpy[version='>=1.20.3,<2.0a0'] -> blas[version='*|*|1.0|1.0',build='openblas|openblas|mkl|mkl']\n",
            "\n",
            "Package libcblas conflicts for:\n",
            "assimulo -> numpy[version='>=1.20.3,<2.0a0'] -> libcblas[version='>=3.9.0,<4.0a0']\n",
            "pyfmi -> numpy[version='>=1.20.3,<2.0a0'] -> libcblas[version='>=3.9.0,<4.0a0']\n",
            "scipy -> libcblas[version='>=3.9.0,<4.0a0']\n",
            "sundials -> suitesparse[version='>=5.10.1,<6.0a0'] -> libcblas[version='>=3.8.0,<4.0a0']\n",
            "numpy -> libcblas[version='>=3.9.0,<4.0a0']\n",
            "suitesparse -> libcblas[version='>=3.8.0,<4.0a0']\n",
            "\n",
            "Package libgfortran4 conflicts for:\n",
            "scipy -> libgfortran4[version='>=7.5.0']\n",
            "libopenblas -> libgfortran-ng -> libgfortran4=7.5.0\n",
            "suitesparse -> libopenblas[version='>=0.3.3,<1.0a0'] -> libgfortran4[version='>=7.5.0']\n",
            "pyfmi -> scipy -> libgfortran4[version='>=7.5.0']\n",
            "numpy -> libopenblas[version='>=0.3.3,<1.0a0'] -> libgfortran4[version='7.5.0.*|>=7.5.0']\n",
            "assimulo -> libgfortran-ng -> libgfortran4[version='7.5.0.*|>=7.5.0']\n",
            "libopenblas -> libgfortran4[version='>=7.5.0']\n",
            "scipy -> libgfortran-ng -> libgfortran4=7.5.0\n",
            "\n",
            "Package libuuid conflicts for:\n",
            "conda -> python[version='>=3.10,<3.11.0a0'] -> libuuid[version='>=1.0.3,<2.0a0|>=1.41.5,<2.0a0']\n",
            "pip -> python[version='>=3.10,<3.11.0a0'] -> libuuid[version='>=1.0.3,<2.0a0|>=1.41.5,<2.0a0']\n",
            "wheel -> python -> libuuid[version='>=1.0.3,<2.0a0|>=1.41.5,<2.0a0']\n",
            "certifi -> python[version='>=3.10,<3.11.0a0'] -> libuuid[version='>=1.0.3,<2.0a0|>=1.41.5,<2.0a0']\n",
            "numpy -> python[version='>=3.10,<3.11.0a0'] -> libuuid[version='>=1.0.3,<2.0a0|>=1.41.5,<2.0a0']\n",
            "scipy -> python[version='>=3.10,<3.11.0a0'] -> libuuid[version='>=1.0.3,<2.0a0|>=1.41.5,<2.0a0']\n",
            "conda-content-trust -> python[version='>=3.10,<3.11.0a0'] -> libuuid[version='>=1.0.3,<2.0a0|>=1.41.5,<2.0a0']\n",
            "conda[version='>=22.11.1'] -> python[version='>=3.10,<3.11.0a0'] -> libuuid[version='>=1.0.3,<2.0a0|>=1.41.5,<2.0a0']\n",
            "setuptools -> python[version='>=3.10,<3.11.0a0'] -> libuuid[version='>=1.0.3,<2.0a0|>=1.41.5,<2.0a0']\n",
            "\n",
            "Package six conflicts for:\n",
            "conda-content-trust -> cryptography -> six[version='>=1.4.1']\n",
            "scipy -> mkl-service[version='>=2.3.0,<3.0a0'] -> six\n",
            "suitesparse -> mkl-service[version='>=2.3.0,<3.0a0'] -> six\n",
            "numpy -> mkl-service[version='>=2.3.0,<3.0a0'] -> six\n",
            "conda[version='>=22.11.1'] -> conda-package-handling[version='>=1.3.0'] -> six[version='>=1.5.2']\n",
            "conda-content-trust -> six\n",
            "conda -> conda-package-handling[version='>=1.3.0'] -> six[version='>=1.5.2']\n",
            "\n",
            "Package setuptools conflicts for:\n",
            "python=3.8 -> pip -> setuptools\n",
            "pip -> setuptools\n",
            "conda[version='>=22.11.1'] -> setuptools[version='>=31.0.1']\n",
            "wheel -> setuptools\n",
            "conda[version='>=22.11.1'] -> ruamel.yaml[version='>=0.11.14,<0.18'] -> setuptools\n",
            "\n",
            "Package intel-openmp conflicts for:\n",
            "suitesparse -> mkl[version='>=2021.4.0,<2022.0a0'] -> intel-openmp=2021\n",
            "numpy -> mkl[version='>=2021.4.0,<2022.0a0'] -> intel-openmp[version='2021.*|2022.*']\n",
            "pyfmi -> scipy -> intel-openmp[version='>=2021.4.0,<2022.0a0']\n",
            "scipy -> intel-openmp[version='>=2021.4.0,<2022.0a0']\n",
            "assimulo -> scipy -> intel-openmp[version='>=2021.4.0,<2022.0a0']\n",
            "scipy -> mkl[version='>=2021.4.0,<2022.0a0'] -> intel-openmp=2021\n",
            "\n",
            "Package certifi conflicts for:\n",
            "wheel -> setuptools -> certifi[version='>=2016.09|>=2016.9.26']\n",
            "conda -> requests[version='>=2.20.1,<3'] -> certifi[version='>=2016.09|>=2016.9.26|>=2017.4.17']\n",
            "setuptools -> certifi[version='>=2016.09|>=2016.9.26']\n",
            "pip -> setuptools -> certifi[version='>=2016.09|>=2016.9.26']\n",
            "conda[version='>=22.11.1'] -> requests[version='>=2.20.1,<3'] -> certifi[version='>=2016.09|>=2016.9.26|>=2017.4.17']\n",
            "\n",
            "Package zlib conflicts for:\n",
            "setuptools -> python[version='>=3.10,<3.11.0a0'] -> zlib[version='>=1.2.11,<1.3.0a0|>=1.2.12,<1.3.0a0|>=1.2.13,<1.3.0a0']\n",
            "pip -> python[version='>=3.8,<3.9.0a0'] -> zlib[version='>=1.2.11,<1.3.0a0|>=1.2.12,<1.3.0a0|>=1.2.13,<1.3.0a0']\n",
            "conda-content-trust -> python[version='>=3.7,<3.8.0a0'] -> zlib[version='>=1.2.11,<1.3.0a0|>=1.2.12,<1.3.0a0|>=1.2.13,<1.3.0a0']\n",
            "libhwloc -> libxml2[version='>=2.9.14,<2.11.0a0'] -> zlib[version='>=1.2.12,<1.3.0a0']\n",
            "certifi -> python[version='>=3.9,<3.10.0a0'] -> zlib[version='>=1.2.11,<1.3.0a0|>=1.2.12,<1.3.0a0|>=1.2.13,<1.3.0a0']\n",
            "pyfmi -> python[version='>=3.8,<3.9.0a0'] -> zlib[version='>=1.2.11,<1.3.0a0|>=1.2.12,<1.3.0a0|>=1.2.13,<1.3.0a0']\n",
            "scipy -> python[version='>=3.9,<3.10.0a0'] -> zlib[version='>=1.2.11,<1.3.0a0|>=1.2.12,<1.3.0a0|>=1.2.13,<1.3.0a0']\n",
            "conda -> python[version='>=3.9,<3.10.0a0'] -> zlib[version='>=1.2.11,<1.3.0a0|>=1.2.12,<1.3.0a0|>=1.2.13,<1.3.0a0']\n",
            "numpy -> python[version='>=3.9,<3.10.0a0'] -> zlib[version='>=1.2.11,<1.3.0a0|>=1.2.12,<1.3.0a0|>=1.2.13,<1.3.0a0']\n",
            "wheel -> python -> zlib[version='>=1.2.11,<1.3.0a0|>=1.2.12,<1.3.0a0|>=1.2.13,<1.3.0a0']\n",
            "python=3.8 -> zlib[version='>=1.2.11,<1.3.0a0|>=1.2.12,<1.3.0a0|>=1.2.13,<1.3.0a0']\n",
            "conda[version='>=22.11.1'] -> python[version='>=3.9,<3.10.0a0'] -> zlib[version='>=1.2.11,<1.3.0a0|>=1.2.12,<1.3.0a0|>=1.2.13,<1.3.0a0']\n",
            "assimulo -> python[version='>=3.8,<3.9.0a0'] -> zlib[version='>=1.2.11,<1.3.0a0|>=1.2.12,<1.3.0a0|>=1.2.13,<1.3.0a0']\n",
            "\n",
            "Package tbb conflicts for:\n",
            "sundials -> suitesparse[version='>=5.10.1,<6.0a0'] -> tbb[version='>=2020.3|>=2021.3.0']\n",
            "suitesparse -> tbb[version='>=2018.0.4,<2019.0a0|>=2019.1|>=2020.3|>=2021.3.0']\n",
            "\n",
            "Package pip conflicts for:\n",
            "scipy -> python[version='>=3.9,<3.10.0a0'] -> pip\n",
            "assimulo -> python[version='>=3.8,<3.9.0a0'] -> pip\n",
            "certifi -> python[version='>=3.9,<3.10.0a0'] -> pip\n",
            "numpy -> python[version='>=3.9,<3.10.0a0'] -> pip\n",
            "wheel -> python -> pip\n",
            "python=3.8 -> pip\n",
            "conda[version='>=22.11.1'] -> python[version='>=3.9,<3.10.0a0'] -> pip\n",
            "conda-content-trust -> python[version='>=3.7,<3.8.0a0'] -> pip\n",
            "setuptools -> python[version='>=3.10,<3.11.0a0'] -> pip\n",
            "pyfmi -> python[version='>=3.8,<3.9.0a0'] -> pip\n",
            "\n",
            "Package ca-certificates conflicts for:\n",
            "pip -> python[version='>=2.7,<2.8.0a0'] -> ca-certificates\n",
            "conda -> python[version='>=2.7,<2.8.0a0'] -> ca-certificates\n",
            "conda-content-trust -> python -> ca-certificates\n",
            "certifi -> python -> ca-certificates\n",
            "wheel -> python -> ca-certificates\n",
            "scipy -> python[version='>=2.7,<2.8.0a0'] -> ca-certificates\n",
            "openssl -> ca-certificates\n",
            "numpy -> python[version='>=2.7,<2.8.0a0'] -> ca-certificates\n",
            "setuptools -> python[version='>=2.7,<2.8.0a0'] -> ca-certificates\n",
            "python=3.8 -> openssl[version='>=1.1.1s,<1.1.2a'] -> ca-certificates\n",
            "\n",
            "Package libxml2 conflicts for:\n",
            "pyfmi -> lxml -> libxml2[version='>=2.9.10,<2.10.0a0|>=2.9.12,<2.10.0a0|>=2.9.14,<2.10.0a0|>=2.9.2,!=2.9.11,!=2.9.12|>=2.9.9,<2.10.0a0|>=2.9.8,<2.10.0a0|>=2.9.7,<2.10.0a0|>=2.9.4,<2.10.0a0']\n",
            "libhwloc -> libxml2[version='>=2.9.14,<2.11.0a0']\n",
            "tbb -> libhwloc[version='>=2.8.0,<2.8.1.0a0'] -> libxml2[version='>=2.9.14,<2.11.0a0']\n",
            "\n",
            "Package mkl conflicts for:\n",
            "scipy -> mkl[version='>=2018.0.0,<2019.0a0|>=2018.0.2,<2019.0a0|>=2018.0.3,<2019.0a0|>=2019.1,<2021.0a0|>=2019.4,<2021.0a0|>=2021.2.0,<2022.0a0|>=2021.3.0,<2022.0a0|>=2021.4.0,<2022.0a0']\n",
            "scipy -> numpy[version='>=1.16,<1.23'] -> mkl[version='>=2018.0.1,<2019.0a0|>=2019.3,<2021.0a0|>=2019.4,<2020.0a0']\n",
            "\n",
            "Package metis conflicts for:\n",
            "sundials -> suitesparse[version='>=5.10.1,<6.0a0'] -> metis[version='>=5.1.0,<5.2.0a0|>=5.1.0,<6.0a0']\n",
            "suitesparse -> metis[version='>=5.1.0,<5.2.0a0|>=5.1.0,<6.0a0']\n",
            "\n",
            "Package libhwloc conflicts for:\n",
            "tbb -> libhwloc[version='>=2.8.0,<2.8.1.0a0']\n",
            "suitesparse -> tbb[version='>=2020.3'] -> libhwloc[version='>=2.8.0,<2.8.1.0a0']\n",
            "\n",
            "Package numpy conflicts for:\n",
            "pyfmi -> numpy[version='>=1.20.3,<2.0a0']\n",
            "assimulo -> numpy[version='>=1.20.3,<2.0a0']\n",
            "assimulo -> scipy -> numpy[version='>=1.11.3,<2.0a0|>=1.14.6,<2.0a0|>=1.16,<1.23|>=1.19,<1.25.0|>=1.19,<1.26.0|>=1.21,<1.26.0|>=1.21,<1.25.0|>=1.21,<1.23|>=1.16.6,<1.23.0|>=1.21.2,<1.23.0|>=1.16.6,<2.0a0|>=1.15.1,<2.0a0|>=1.9.3,<2.0a0|>=1.20.3,<1.27']\n",
            "pyfmi -> scipy -> numpy[version='>=1.11.3,<2.0a0|>=1.14.6,<2.0a0|>=1.16,<1.23|>=1.19,<1.25.0|>=1.19,<1.26.0|>=1.21,<1.26.0|>=1.21,<1.25.0|>=1.21,<1.23|>=1.16.6,<1.23.0|>=1.21.2,<1.23.0|>=1.16.6,<2.0a0|>=1.15.1,<2.0a0|>=1.9.3,<2.0a0|>=1.20.3,<1.27']\n",
            "scipy -> numpy[version='>=1.11.3,<2.0a0|>=1.14.6,<2.0a0|>=1.16,<1.23|>=1.19,<1.25.0|>=1.19,<1.26.0|>=1.21,<1.26.0|>=1.21,<1.25.0|>=1.21,<1.23|>=1.16.6,<1.23.0|>=1.21.2,<1.23.0|>=1.16.6,<2.0a0|>=1.15.1,<2.0a0|>=1.9.3,<2.0a0|>=1.20.3,<1.27|>=1.20.3,<2.0a0']\n",
            "\n",
            "Package scipy conflicts for:\n",
            "pyfmi -> scipy\n",
            "assimulo -> scipy\n",
            "\n",
            "Package requests conflicts for:\n",
            "conda[version='>=22.11.1'] -> requests[version='>=2.20.1,<3']\n",
            "conda -> requests[version='>=2.12.4|>=2.12.4,<3|>=2.18.4,<3|>=2.20.1,<3|>=2.14.2,<3']\n",
            "scipy -> pooch -> requests[version='>=2.19.0']\n",
            "\n",
            "Package suitesparse conflicts for:\n",
            "sundials -> suitesparse[version='>=5.10.1,<6.0a0']\n",
            "assimulo -> sundials[version='>=6.4.0,<6.5.0a0'] -> suitesparse[version='>=5.10.1,<6.0a0']\n",
            "\n",
            "Package libgfortran-ng conflicts for:\n",
            "scipy -> libgfortran-ng[version='>=7,<8.0a0|>=7.2.0,<8.0a0']\n",
            "scipy -> libopenblas[version='>=0.3.2,<0.3.3.0a0'] -> libgfortran-ng[version='>=8,<9.0a0']\n",
            "\n",
            "Package wheel conflicts for:\n",
            "pip -> wheel\n",
            "python=3.8 -> pip -> wheel\n",
            "\n",
            "Package gmp conflicts for:\n",
            "suitesparse -> gmp[version='>=6.1.2']\n",
            "suitesparse -> mpfr[version='>=4.0.2,<5.0a0'] -> gmp[version='>=6.2.1,<7.0a0']\n",
            "\n",
            "Package enum34 conflicts for:\n",
            "conda-content-trust -> cryptography -> enum34\n",
            "conda -> enum34\n",
            "\n",
            "Package sundials conflicts for:\n",
            "assimulo -> sundials[version='>=6.4.0,<6.5.0a0']\n",
            "pyfmi -> assimulo[version='>=3.0'] -> sundials[version='>=6.4.0,<6.5.0a0']The following specifications were found to be incompatible with your system:\n",
            "\n",
            "  - feature:/linux-64::__glibc==2.31=0\n",
            "  - feature:|@/linux-64::__glibc==2.31=0\n",
            "  - assimulo -> libgfortran-ng -> __glibc[version='>=2.17']\n",
            "  - libopenblas -> libgcc-ng[version='>=11.2.0'] -> __glibc[version='>=2.17']\n",
            "  - numpy -> libgcc-ng[version='>=11.2.0'] -> __glibc[version='>=2.17']\n",
            "  - openssl -> libgcc-ng[version='>=7.5.0'] -> __glibc[version='>=2.17']\n",
            "  - python=3.8 -> libgcc-ng[version='>=11.2.0'] -> __glibc[version='>=2.17']\n",
            "  - scipy -> libgcc-ng[version='>=11.2.0'] -> __glibc[version='>=2.17']\n",
            "  - suitesparse -> libgcc-ng[version='>=11.2.0'] -> __glibc[version='>=2.17']\n",
            "  - tbb -> libgcc-ng[version='>=11.2.0'] -> __glibc[version='>=2.17']\n",
            "\n",
            "Your installed version is: 2.31\n",
            "\n",
            "\n"
          ]
        }
      ]
    },
    {
      "cell_type": "code",
      "source": [
        "!conda --version\n",
        "!python --version"
      ],
      "metadata": {
        "colab": {
          "base_uri": "https://localhost:8080/"
        },
        "id": "uoBMBSS63Z58",
        "outputId": "0d1db1cb-58a1-47e6-a8b5-f004c4388d20"
      },
      "execution_count": 63,
      "outputs": [
        {
          "output_type": "stream",
          "name": "stdout",
          "text": [
            "conda 22.11.1\n",
            "Python 3.8.15\n"
          ]
        }
      ]
    },
    {
      "cell_type": "code",
      "source": [
        "!conda install -c conda-forge pyfmi --yes # Install the key package"
      ],
      "metadata": {
        "colab": {
          "base_uri": "https://localhost:8080/"
        },
        "id": "RMuJRdfH3dDq",
        "outputId": "4b83a659-18e3-4f79-c9de-d73328bcce4a"
      },
      "execution_count": 64,
      "outputs": [
        {
          "output_type": "stream",
          "name": "stdout",
          "text": [
            "Collecting package metadata (current_repodata.json): - \b\b\\ \b\b| \b\b/ \b\b- \b\b\\ \b\b| \b\b/ \b\b- \b\b\\ \b\b| \b\b/ \b\b- \b\b\\ \b\b| \b\b/ \b\b- \b\b\\ \b\b| \b\bdone\n",
            "Solving environment: - \b\b\\ \b\b| \b\b/ \b\b- \b\b\\ \b\b| \b\b/ \b\b- \b\b\\ \b\b| \b\b/ \b\b- \b\b\\ \b\b| \b\b/ \b\b- \b\b\\ \b\b| \b\b/ \b\b- \b\b\\ \b\b| \b\b/ \b\b- \b\b\\ \b\b| \b\b/ \b\b- \b\b\\ \b\b| \b\b/ \b\b- \b\b\\ \b\b| \b\b/ \b\b- \b\b\\ \b\b| \b\b/ \b\b- \b\b\\ \b\b| \b\b/ \b\b- \b\b\\ \n",
            "The environment is inconsistent, please check the package plan carefully\n",
            "The following packages are causing the inconsistency:\n",
            "\n",
            "  - conda-forge/linux-64::liblapack==3.9.0=16_linux64_openblas\n",
            "  - conda-forge/linux-64::libhwloc==2.8.0=h32351e8_1\n",
            "  - conda-forge/linux-64::libopenblas==0.3.21=pthreads_h78a6416_3\n",
            "  - conda-forge/linux-64::numpy==1.24.1=py38hab0fcb9_0\n",
            "  - conda-forge/linux-64::libblas==3.9.0=16_linux64_openblas\n",
            "  - conda-forge/linux-64::tbb==2021.7.0=h924138e_1\n",
            "  - conda-forge/linux-64::libcblas==3.9.0=16_linux64_openblas\n",
            "  - conda-forge/linux-64::sundials==6.4.1=h89a52a3_0\n",
            "  - conda-forge/linux-64::suitesparse==5.10.1=h9e50725_1\n",
            "  - conda-forge/linux-64::pyfmi==2.9.8=py38h26c90d9_1\n",
            "  - conda-forge/linux-64::fmilib==2.4.1=h27087fc_0\n",
            "  - conda-forge/linux-64::assimulo==3.3=py38h71f17ff_1\n",
            "  - conda-forge/linux-64::scipy==1.10.0=py38h10c12cc_0\n",
            "\b\b| \b\b/ \b\b- \b\b\\ \b\b| \b\b/ \b\b- \b\b\\ \b\b| \b\b/ \b\b- \b\b\\ \b\b| \b\b/ \b\b- \b\b\\ \b\b| \b\b/ \b\b- \b\b\\ \b\bdone\n",
            "\n",
            "## Package Plan ##\n",
            "\n",
            "  environment location: /usr/local\n",
            "\n",
            "  added / updated specs:\n",
            "    - pyfmi\n",
            "\n",
            "\n",
            "The following packages will be REMOVED:\n",
            "\n",
            "  libgomp-11.2.0-h1234567_1\n",
            "\n",
            "The following packages will be UPDATED:\n",
            "\n",
            "  ca-certificates    pkgs/main::ca-certificates-2022.10.11~ --> conda-forge::ca-certificates-2022.12.7-ha878542_0 \n",
            "  libgcc-ng          pkgs/main::libgcc-ng-11.2.0-h1234567_1 --> conda-forge::libgcc-ng-12.2.0-h65d4601_19 \n",
            "  libstdcxx-ng       pkgs/main::libstdcxx-ng-11.2.0-h12345~ --> conda-forge::libstdcxx-ng-12.2.0-h46fd767_19 \n",
            "  openssl              pkgs/main::openssl-1.1.1s-h7f8727e_0 --> conda-forge::openssl-1.1.1s-h0b41bf4_1 \n",
            "\n",
            "The following packages will be SUPERSEDED by a higher-priority channel:\n",
            "\n",
            "  _libgcc_mutex           pkgs/main::_libgcc_mutex-0.1-main --> conda-forge::_libgcc_mutex-0.1-conda_forge \n",
            "  _openmp_mutex          pkgs/main::_openmp_mutex-5.1-1_gnu --> conda-forge::_openmp_mutex-4.5-2_kmp_llvm \n",
            "  certifi            pkgs/main/linux-64::certifi-2022.12.7~ --> conda-forge/noarch::certifi-2022.12.7-pyhd8ed1ab_0 \n",
            "  conda              pkgs/main::conda-22.11.1-py38h06a4308~ --> conda-forge::conda-22.11.1-py38h578d9bd_1 \n",
            "\n",
            "\n",
            "\n",
            "Downloading and Extracting Packages\n",
            "\n",
            "Preparing transaction: / \b\bdone\n",
            "Verifying transaction: \\ \b\bdone\n",
            "Executing transaction: / \b\b- \b\b\\ \b\b| \b\b/ \b\b- \b\b\\ \b\b| \b\b/ \b\b- \b\bdone\n"
          ]
        }
      ]
    },
    {
      "cell_type": "markdown",
      "source": [
        "# BPL_TEST2_Fedbatch setup\n"
      ],
      "metadata": {
        "id": "UTETJm3l6heL"
      }
    },
    {
      "cell_type": "markdown",
      "source": [
        "Now specific installation and the run simulations. Start with connecting to Github. Then upload the two files:\n",
        "\n",
        "* FMU - BPL_TEST2_Fedbatch_linux_om_me.fmu\n",
        "* Setup-file - BPL_TEST2_Fedbatch_explore.me.py"
      ],
      "metadata": {
        "id": "mxILgQ103nZ6"
      }
    },
    {
      "cell_type": "code",
      "source": [
        "# Filter out DepracationWarnings for 'np.float as alias' is needed - wish I could make filter more narrow \n",
        "#import warnings\n",
        "#warnings.filterwarnings(\"ignore\")"
      ],
      "metadata": {
        "id": "RrYshFe13jmO"
      },
      "execution_count": 65,
      "outputs": []
    },
    {
      "cell_type": "code",
      "source": [
        "%%bash \n",
        "git clone https://github.com/janpeter19/BPL_TEST2_Fedbatch"
      ],
      "metadata": {
        "colab": {
          "base_uri": "https://localhost:8080/"
        },
        "id": "RfWPh1B63yBF",
        "outputId": "570e60fc-1d39-4884-d2c3-28dabae8e6ea"
      },
      "execution_count": 66,
      "outputs": [
        {
          "output_type": "stream",
          "name": "stderr",
          "text": [
            "Cloning into 'BPL_TEST2_Fedbatch'...\n"
          ]
        }
      ]
    },
    {
      "cell_type": "code",
      "source": [
        "%cd BPL_TEST2_Fedbatch"
      ],
      "metadata": {
        "colab": {
          "base_uri": "https://localhost:8080/"
        },
        "id": "i6uOVB44300a",
        "outputId": "1d7f2c3e-320c-4f88-ccf3-e0d1b9faa05c"
      },
      "execution_count": 67,
      "outputs": [
        {
          "output_type": "stream",
          "name": "stdout",
          "text": [
            "/content/BPL_CHO_Fedbatch/BPL_CHO_Fedbatch/BPL_CHO_Fedbatch/BPL_TEST2_Fedbatch/BPL_TEST2_Fedbatch/BPL_TEST2_Fedbatch\n"
          ]
        }
      ]
    },
    {
      "cell_type": "code",
      "source": [
        "run -i BPL_TEST2_Fedbatch_explore_me.py"
      ],
      "metadata": {
        "colab": {
          "base_uri": "https://localhost:8080/",
          "height": 295
        },
        "id": "b-y82jZY33cO",
        "outputId": "8cb57830-b336-49fc-9848-08c4318d2a46"
      },
      "execution_count": 68,
      "outputs": [
        {
          "output_type": "stream",
          "name": "stdout",
          "text": [
            "Linux - run FMU pre-comiled OpenModelica 1.21.0\n",
            "\n",
            "Model for bioreactor has been setup. Key commands:\n",
            " - par()       - change of parameters and initial values\n",
            " - init()      - change initial values only\n",
            " - simu()      - simulate and plot\n",
            " - newplot()   - make a new plot\n",
            " - show()      - show plot from previous simulation\n",
            " - disp()      - display parameters and initial values from the last simulation\n",
            " - describe()  - describe culture, broth, parameters, variables with values / units\n",
            "\n",
            "Note that both disp() and describe() takes values from the last simulation\n",
            "\n",
            "Brief information about a command by help(), eg help(simu)\n",
            "Key system information is listed with the command system_info()\n"
          ]
        },
        {
          "output_type": "display_data",
          "data": {
            "text/plain": [
              "<Figure size 708.661x566.929 with 0 Axes>"
            ]
          },
          "metadata": {}
        }
      ]
    },
    {
      "cell_type": "code",
      "source": [
        "%matplotlib inline\n",
        "plt.rcParams['figure.figsize'] = [25/2.54, 20/2.54]"
      ],
      "metadata": {
        "id": "HUFhuE-H4RCw"
      },
      "execution_count": 69,
      "outputs": []
    },
    {
      "cell_type": "code",
      "source": [
        "import warnings\n",
        "warnings.filterwarnings(\"ignore\")"
      ],
      "metadata": {
        "id": "cMO4OlAgJIlb"
      },
      "execution_count": 70,
      "outputs": []
    },
    {
      "cell_type": "markdown",
      "source": [
        "## 1 About the process model\n",
        "\n",
        "We can get information about the process and liquid phase by the command describe(). Here is no gas-phase included. This command can also be used to bring up information about a specific variable or parameter. However, you should use describe() after a simulation to get the valued used during the simulation."
      ],
      "metadata": {
        "id": "dx9oMnP0RJkM"
      }
    },
    {
      "cell_type": "code",
      "source": [
        "describe('culture'); print(); #describe('liquidphase')                                  # Pump schedule parameter \n"
      ],
      "metadata": {
        "id": "-Y3NHWIj4TZ6",
        "colab": {
          "base_uri": "https://localhost:8080/"
        },
        "outputId": "b2fbb546-6c3f-4dc9-ae4a-e8b575cdf7a5"
      },
      "execution_count": 71,
      "outputs": [
        {
          "output_type": "stream",
          "name": "stdout",
          "text": [
            "Simplified text book model - only substrate S and cell concentration X\n",
            "\n"
          ]
        }
      ]
    },
    {
      "cell_type": "code",
      "source": [
        "# Simulation with default values of the process\n",
        "newplot(plotType='TimeSeries')\n",
        "simu(20)"
      ],
      "metadata": {
        "colab": {
          "base_uri": "https://localhost:8080/",
          "height": 506
        },
        "id": "UeMOu19LJT6b",
        "outputId": "9bb1e9c7-2008-4ecc-8725-826572c84366"
      },
      "execution_count": 72,
      "outputs": [
        {
          "output_type": "display_data",
          "data": {
            "text/plain": [
              "<Figure size 708.661x566.929 with 4 Axes>"
            ],
            "image/png": "[encoded data removed]"
          },
          "metadata": {
            "needs_background": "light"
          }
        }
      ]
    },
    {
      "cell_type": "code",
      "source": [
        "disp(mode='long')"
      ],
      "metadata": {
        "colab": {
          "base_uri": "https://localhost:8080/"
        },
        "id": "mtWJ3rfbJaVN",
        "outputId": "732f5458-f0b8-460a-8104-1b7a8d79477a"
      },
      "execution_count": 73,
      "outputs": [
        {
          "output_type": "stream",
          "name": "stdout",
          "text": [
            "bioreactor.V_0 : V_0 : 1.0\n",
            "bioreactor.m_0[1] : VX_0 : 1.0\n",
            "bioreactor.m_0[2] : VS_0 : 10.0\n",
            "bioreactor.culture.Y : Y : 0.5\n",
            "bioreactor.culture.qSmax : qSmax : 1.0\n",
            "bioreactor.culture.Ks : Ks : 0.1\n",
            "feedtank.c_in[2] : feedtank.S_in : 300.0\n",
            "feedtank.V_0 : feedtank.V_0 : 10.0\n",
            "dosagescheme.mu_feed : mu_feed : 0.1\n",
            "dosagescheme.t_start : t_start : 3.0\n",
            "dosagescheme.F_start : F_start : 0.001\n",
            "dosagescheme.F_max : F_max : 0.3\n"
          ]
        }
      ]
    },
    {
      "cell_type": "code",
      "source": [
        "# A more typical feed scheme for the culture at hand\n",
        "newplot(plotType='TimeSeries')\n",
        "par(t_start=4, F_start=0.008, mu_feed=0.2, F_max=0.1)\n",
        "simu(20)"
      ],
      "metadata": {
        "colab": {
          "base_uri": "https://localhost:8080/",
          "height": 506
        },
        "id": "0Bj8zdIMJiHr",
        "outputId": "89397490-d2b2-4258-c01e-fd1d583aa4bb"
      },
      "execution_count": 74,
      "outputs": [
        {
          "output_type": "display_data",
          "data": {
            "text/plain": [
              "<Figure size 708.661x566.929 with 4 Axes>"
            ],
            "image/png": "[encoded data removed]"
          },
          "metadata": {
            "needs_background": "light"
          }
        }
      ]
    },
    {
      "cell_type": "code",
      "source": [
        "disp('culture')"
      ],
      "metadata": {
        "colab": {
          "base_uri": "https://localhost:8080/"
        },
        "id": "IOLRVcsFJ5NX",
        "outputId": "7148af7e-705e-434a-c2ad-1893b6359e47"
      },
      "execution_count": 75,
      "outputs": [
        {
          "output_type": "stream",
          "name": "stdout",
          "text": [
            "Y : 0.5\n",
            "qSmax : 1.0\n",
            "Ks : 0.1\n"
          ]
        }
      ]
    },
    {
      "cell_type": "code",
      "source": [
        "describe('mu')"
      ],
      "metadata": {
        "colab": {
          "base_uri": "https://localhost:8080/"
        },
        "id": "yjcgKrvpJ96A",
        "outputId": "4e76d1ec-6af4-40a6-82d5-5b42ccbaf076"
      },
      "execution_count": 76,
      "outputs": [
        {
          "output_type": "stream",
          "name": "stdout",
          "text": [
            "Cell specific growth rate variable : 0.12 [ 1/h ]\n"
          ]
        }
      ]
    },
    {
      "cell_type": "code",
      "source": [
        "describe('parts')"
      ],
      "metadata": {
        "colab": {
          "base_uri": "https://localhost:8080/"
        },
        "id": "sLF6NdXvKBY4",
        "outputId": "5cb5f7eb-a6d4-4751-dc25-297eddeebf82"
      },
      "execution_count": 77,
      "outputs": [
        {
          "output_type": "stream",
          "name": "stdout",
          "text": [
            "['bioreactor', 'bioreactor.culture', 'dosagescheme', 'feedtank']\n"
          ]
        }
      ]
    },
    {
      "cell_type": "code",
      "source": [
        "describe('MSL')"
      ],
      "metadata": {
        "colab": {
          "base_uri": "https://localhost:8080/"
        },
        "id": "cZKKtkydKHH-",
        "outputId": "e807780b-cca9-4dfb-f071-3461f3811ccc"
      },
      "execution_count": 78,
      "outputs": [
        {
          "output_type": "stream",
          "name": "stdout",
          "text": [
            "MSL: information not accessible from this FMU\n"
          ]
        }
      ]
    },
    {
      "cell_type": "code",
      "source": [
        "system_info()"
      ],
      "metadata": {
        "colab": {
          "base_uri": "https://localhost:8080/"
        },
        "id": "D7lCWmdiKNLm",
        "outputId": "6be35923-c871-4f0d-9de2-319db2cea340"
      },
      "execution_count": 79,
      "outputs": [
        {
          "output_type": "stream",
          "name": "stdout",
          "text": [
            "\n",
            "System information\n",
            " -OS: Linux\n",
            " -Python: 3.8.10\n",
            " -Scipy: not installed in the notebook\n",
            " -PyFMI: 2.9.8\n",
            " -FMU by: OpenModelica Compiler OpenModelica 1.21.0~dev-185-g9d983b8\n",
            " -FMI: 2.0\n",
            " -Type: FMUModelME2\n",
            " -Name: BPL.TEST2_INTERNAL.Fedbatch\n",
            " -Generated: 2023-01-17T13:48:34Z\n",
            " -MSL: MSL.version information not accessible\n",
            " -Description: BPL.version information not accessible\n",
            " -Interaction: FMU-explore version 0.9.6d\n"
          ]
        }
      ]
    }
  ]
}